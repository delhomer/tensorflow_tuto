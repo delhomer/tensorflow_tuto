{
 "cells": [
  {
   "cell_type": "markdown",
   "metadata": {},
   "source": [
    "# Introduction to Tensorflow"
   ]
  },
  {
   "cell_type": "markdown",
   "metadata": {},
   "source": [
    "[Tensorflow](https://www.tensorflow.org/) is a Python library designed for numerical computations, it is linked with data flow graphs as a smart representation of computation process (nodes are operations, edges are data arrays).\n",
    "\n",
    "Tensorflow is very similar to [Numpy](http://www.numpy.org/) regarding the numerical operations. In this way we will handle here some constants and variables of different shapes (scalars, vectors, matrices). Some Tensorflow specificities will arise as well."
   ]
  },
  {
   "cell_type": "code",
   "execution_count": 1,
   "metadata": {
    "collapsed": true
   },
   "outputs": [],
   "source": [
    "import tensorflow as tf"
   ]
  },
  {
   "cell_type": "markdown",
   "metadata": {},
   "source": [
    "## Constant and basic operations"
   ]
  },
  {
   "cell_type": "markdown",
   "metadata": {},
   "source": [
    "### Operations on scalars"
   ]
  },
  {
   "cell_type": "code",
   "execution_count": 2,
   "metadata": {
    "collapsed": true
   },
   "outputs": [],
   "source": [
    "a = tf.constant(2, name=\"a\")\n",
    "b = tf.constant(3, name=\"b\")\n",
    "add = tf.add(a, b, name=\"addition\")\n",
    "mul = tf.multiply(a, b, name=\"multiplication\")"
   ]
  },
  {
   "cell_type": "code",
   "execution_count": 3,
   "metadata": {},
   "outputs": [
    {
     "name": "stdout",
     "output_type": "stream",
     "text": [
      "2 + 3 = 5\n",
      "2 * 3 = 6\n"
     ]
    }
   ],
   "source": [
    "sess = tf.Session()\n",
    "a_, b_, x, y = sess.run([a, b, add, mul])\n",
    "print(\"{0} + {1} = {2}\\n{0} * {1} = {3}\".format(a_, b_, x, y))\n",
    "sess.close()"
   ]
  },
  {
   "cell_type": "markdown",
   "metadata": {},
   "source": [
    "### Operations on matrices"
   ]
  },
  {
   "cell_type": "code",
   "execution_count": 4,
   "metadata": {
    "collapsed": true
   },
   "outputs": [],
   "source": [
    "m1 = tf.constant([[2,2]], name=\"m1\")\n",
    "m2 = tf.constant([[0,1],[2,3]], name=\"m2\")\n",
    "madd = tf.add(m1, m2, name=\"matrix_addition\")\n",
    "mmul = tf.matmul(m1, m2, name=\"matrix_multiplication\")"
   ]
  },
  {
   "cell_type": "code",
   "execution_count": 5,
   "metadata": {},
   "outputs": [
    {
     "name": "stdout",
     "output_type": "stream",
     "text": [
      "[[2 2]]\n",
      "+\n",
      "[[0 1]\n",
      " [2 3]]\n",
      "=\n",
      "[[2 3]\n",
      " [4 5]]\n",
      "\n",
      "[[2 2]]\n",
      "*\n",
      "[[0 1]\n",
      " [2 3]]\n",
      "=\n",
      "[[4 8]]\n"
     ]
    }
   ],
   "source": [
    "with tf.Session() as sess:\n",
    "    a_, b_, x, y = sess.run([m1, m2, madd, mmul])\n",
    "    print(\"{0}\\n+\\n{1}\\n=\\n{2}\\n\\n{0}\\n*\\n{1}\\n=\\n{3}\".format(a_, b_, x, y))"
   ]
  },
  {
   "cell_type": "markdown",
   "metadata": {},
   "source": [
    "### Particular matrices"
   ]
  },
  {
   "cell_type": "code",
   "execution_count": 6,
   "metadata": {},
   "outputs": [
    {
     "name": "stdout",
     "output_type": "stream",
     "text": [
      "Matrice nulle:\n",
      "[[0 0 0]\n",
      " [0 0 0]]\n",
      "Matrice nulle basée sur un modèle:\n",
      "[[0 0]\n",
      " [0 0]]\n",
      "Matrice de '1':\n",
      "[[1 1 1]\n",
      " [1 1 1]]\n",
      "Matrice de '8':\n",
      "[[8 8 8]\n",
      " [8 8 8]]\n"
     ]
    }
   ],
   "source": [
    "mzeros = tf.zeros([2,3], tf.int32)\n",
    "mzeros_temp = tf.zeros_like(m2)\n",
    "mones = tf.ones([2,3], tf.int32)\n",
    "meights = tf.fill([2,3], 8)\n",
    "with tf.Session() as sess:\n",
    "    mzeros_, mzeros_t_, mones_, meights_ = sess.run([mzeros, mzeros_temp, mones, meights])\n",
    "    print(\"Matrice nulle:\\n{0}\\nMatrice nulle basée sur un modèle:\\n{1}\\nMatrice de '1':\\n{2}\\nMatrice de '8':\\n{3}\".format(mzeros_, mzeros_t_, mones_, meights_))"
   ]
  },
  {
   "cell_type": "markdown",
   "metadata": {},
   "source": [
    "### Random generator"
   ]
  },
  {
   "cell_type": "code",
   "execution_count": 7,
   "metadata": {},
   "outputs": [
    {
     "name": "stdout",
     "output_type": "stream",
     "text": [
      "Matrice normale (10,1):\n",
      "[[  9.85214329   8.79760456  11.73017883]\n",
      " [ 10.20241451  10.83388805  10.39138603]\n",
      " [ 10.38583755   9.61636734   8.92310047]]\n"
     ]
    }
   ],
   "source": [
    "mu = 10\n",
    "sigma = 1\n",
    "mrand = tf.random_normal([3,3], mean=mu, stddev=sigma)\n",
    "with tf.Session() as sess:\n",
    "    print(\"Matrice normale ({0},{1}):\\n{2}\".format(mu, sigma, sess.run(mrand)))"
   ]
  },
  {
   "cell_type": "markdown",
   "metadata": {},
   "source": [
    "## Variables"
   ]
  },
  {
   "cell_type": "code",
   "execution_count": 8,
   "metadata": {
    "collapsed": true
   },
   "outputs": [],
   "source": [
    "v1 = tf.Variable(2, name=\"scalar\")\n",
    "v2 = tf.Variable([3.0, 4.0], name=\"vector\")\n",
    "v3 = tf.Variable(tf.zeros([2,6]), name=\"zeromatrix\")\n",
    "\n",
    "init = tf.variables_initializer([v1, v3], name=\"init_az\")"
   ]
  },
  {
   "cell_type": "code",
   "execution_count": 9,
   "metadata": {},
   "outputs": [
    {
     "name": "stdout",
     "output_type": "stream",
     "text": [
      "<tf.Variable 'scalar:0' shape=() dtype=int32_ref>\n",
      "2\n",
      "[[ 0.  0.  0.  0.  0.  0.]\n",
      " [ 0.  0.  0.  0.  0.  0.]]\n",
      "[ 3.  4.]\n"
     ]
    }
   ],
   "source": [
    "with tf.Session() as sess:\n",
    "    sess.run(init)\n",
    "    print(v1)\n",
    "    print(v1.eval())\n",
    "    print(v3.eval())\n",
    "    sess.run(v2.initializer)\n",
    "    print(v2.eval())"
   ]
  },
  {
   "cell_type": "code",
   "execution_count": 10,
   "metadata": {},
   "outputs": [
    {
     "name": "stdout",
     "output_type": "stream",
     "text": [
      "[ 3.  4.]\n",
      "[ 30.  40.]\n"
     ]
    }
   ],
   "source": [
    "new_v2 = v2.assign([30.0, 40.0])\n",
    "with tf.Session() as sess:\n",
    "    sess.run(v2.initializer)\n",
    "    print(v2.eval())\n",
    "    sess.run(new_v2)\n",
    "    print(v2.eval())\n"
   ]
  },
  {
   "cell_type": "markdown",
   "metadata": {},
   "source": [
    "## Placeholders"
   ]
  },
  {
   "cell_type": "markdown",
   "metadata": {},
   "source": [
    "Placeholders are a kind of variables that must be fed during a tensorflow session. They are the ideal structure to insert input data into computation process."
   ]
  },
  {
   "cell_type": "markdown",
   "metadata": {},
   "source": [
    "### Placeholder definition"
   ]
  },
  {
   "cell_type": "code",
   "execution_count": 11,
   "metadata": {
    "collapsed": true
   },
   "outputs": [],
   "source": [
    "p1 = tf.placeholder(tf.float32, shape=[1,3], name=\"placeholder1\")\n",
    "p2 = tf.placeholder(tf.float32, shape=[3,1], name=\"placeholder2\")"
   ]
  },
  {
   "cell_type": "markdown",
   "metadata": {},
   "source": [
    "### Operation on placeholders to make an output"
   ]
  },
  {
   "cell_type": "code",
   "execution_count": 12,
   "metadata": {
    "collapsed": true
   },
   "outputs": [],
   "source": [
    "pmult = tf.matmul(p1, p2) + tf.ones(shape=[1,1])"
   ]
  },
  {
   "cell_type": "markdown",
   "metadata": {},
   "source": [
    "### Execution of the code within a session"
   ]
  },
  {
   "cell_type": "code",
   "execution_count": 13,
   "metadata": {},
   "outputs": [
    {
     "name": "stdout",
     "output_type": "stream",
     "text": [
      "Sum of placeholder matrices:\n",
      "[[ 141.]]\n"
     ]
    }
   ],
   "source": [
    "with tf.Session() as sess:\n",
    "    placeholder_mult = sess.run(pmult, feed_dict={p1:[[1,2,3]], p2:[[10],[20],[30]]})\n",
    "    print(\"Sum of placeholder matrices:\\n{}\".format(placeholder_mult))"
   ]
  },
  {
   "cell_type": "markdown",
   "metadata": {},
   "source": [
    "## Graph visualisation"
   ]
  },
  {
   "cell_type": "markdown",
   "metadata": {},
   "source": [
    "A dummy sequence of operations is designed, to elaborate a small example graph."
   ]
  },
  {
   "cell_type": "code",
   "execution_count": 14,
   "metadata": {},
   "outputs": [
    {
     "name": "stdout",
     "output_type": "stream",
     "text": [
      "Does the fourth value equal the result obtained with the three others? True\n"
     ]
    }
   ],
   "source": [
    "import numpy as np\n",
    "\n",
    "p3 = tf.placeholder(tf.float32, shape=(), name=\"placeholder3\")\n",
    "p4 = tf.placeholder(tf.float32, shape=(), name=\"placeholder4\")\n",
    "\n",
    "padd = tf.add(pmult, p3)\n",
    "pequals = tf.equal(padd, p4)\n",
    "panswer = tf.reshape(pequals, [])\n",
    "\n",
    "with tf.Session() as sess:\n",
    "    writer = tf.summary.FileWriter('./graphs/intro', sess.graph)\n",
    "    answer = sess.run(panswer, feed_dict={p1: [[1, 2, 3]], p2: [[10], [20], [30]], p3: 1000, p4: 1141})\n",
    "    print(\"Does the fourth value equal the result obtained with the three others? {}\".format(answer))"
   ]
  },
  {
   "cell_type": "markdown",
   "metadata": {},
   "source": [
    "Then the graph can be showed onto the local server, with the proper port. The shell command is the following one:\n",
    "\n",
    "`tensorboard --logdir './graphs/intro' --port 6006`"
   ]
  },
  {
   "cell_type": "markdown",
   "metadata": {},
   "source": [
    "## TD;LR"
   ]
  },
  {
   "cell_type": "markdown",
   "metadata": {},
   "source": [
    "Tensorflow:\n",
    "+ allows to handle constants and variables of different shapes\n",
    "+ represents operations in a graph\n",
    "+ separates the graph conception from the numerical operations\n",
    "+ needs the opening of a dedicated session to apply operations within a pre-built graph\n",
    "+ and its `tensorboard` command shows the graph and every tensorflow objects on the local server"
   ]
  }
 ],
 "metadata": {
  "kernelspec": {
   "display_name": "Python 3",
   "language": "python",
   "name": "python3"
  },
  "language_info": {
   "codemirror_mode": {
    "name": "ipython",
    "version": 3
   },
   "file_extension": ".py",
   "mimetype": "text/x-python",
   "name": "python",
   "nbconvert_exporter": "python",
   "pygments_lexer": "ipython3",
   "version": "3.5.2"
  }
 },
 "nbformat": 4,
 "nbformat_minor": 2
}

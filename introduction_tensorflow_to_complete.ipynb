{
 "cells": [
  {
   "cell_type": "markdown",
   "metadata": {},
   "source": [
    "# Introduction to Tensorflow"
   ]
  },
  {
   "cell_type": "markdown",
   "metadata": {},
   "source": [
    "[Tensorflow](https://www.tensorflow.org/) is a Python library designed for numerical computations, it is linked with data flow graphs as a smart representation of computation process (nodes are operations, edges are data arrays).\n",
    "\n",
    "Tensorflow is very similar to [Numpy](http://www.numpy.org/) regarding the numerical operations. In this way we will handle here some constants and variables of different shapes (scalars, vectors, matrices). Some Tensorflow specificities will arise as well."
   ]
  },
  {
   "cell_type": "code",
   "execution_count": null,
   "metadata": {
    "collapsed": true
   },
   "outputs": [],
   "source": [
    "# import Tensorflow"
   ]
  },
  {
   "cell_type": "markdown",
   "metadata": {},
   "source": [
    "## Constant and basic operations"
   ]
  },
  {
   "cell_type": "markdown",
   "metadata": {},
   "source": [
    "### Operations on scalars"
   ]
  },
  {
   "cell_type": "markdown",
   "metadata": {},
   "source": [
    "Create some constant tensors, and do basic operations on them :"
   ]
  },
  {
   "cell_type": "code",
   "execution_count": null,
   "metadata": {
    "collapsed": true
   },
   "outputs": [],
   "source": [
    "# Tensor creations\n",
    "\n",
    "# Addition\n",
    "\n",
    "# Multiplication\n"
   ]
  },
  {
   "cell_type": "markdown",
   "metadata": {},
   "source": [
    "View results within a Tensorflow session :"
   ]
  },
  {
   "cell_type": "code",
   "execution_count": null,
   "metadata": {},
   "outputs": [],
   "source": [
    "# Open a session\n",
    "\n",
    "# Compute the tensor values with the .run() function (and print them)\n",
    "\n",
    "# Close the session\n"
   ]
  },
  {
   "cell_type": "markdown",
   "metadata": {},
   "source": [
    "### Operations on matrices"
   ]
  },
  {
   "cell_type": "markdown",
   "metadata": {},
   "source": [
    "On the same manner, do basic operations on matrices with Tensorflow:"
   ]
  },
  {
   "cell_type": "code",
   "execution_count": null,
   "metadata": {
    "collapsed": true
   },
   "outputs": [],
   "source": [
    "# Create two matrices m1 and m2 respectively of dimension (2*1) and (2*2)\n",
    "\n",
    "# Do a matrix addition\n",
    "\n",
    "# Do a matrix multiplication\n"
   ]
  },
  {
   "cell_type": "markdown",
   "metadata": {},
   "source": [
    "Like previously, the result is not available yet, a `Tensorflow` session must be opened:"
   ]
  },
  {
   "cell_type": "code",
   "execution_count": null,
   "metadata": {},
   "outputs": [],
   "source": [
    "# Open a session with a context manager (actually the good practice)\n",
    "\n",
    "# Compute the defined matrix operations and print the results (format: \"{0}\\n+\\n{1}\\n=\\n{2}\\n\\n{0}\\n*\\n{1}\\n=\\n{3}\")\n"
   ]
  },
  {
   "cell_type": "markdown",
   "metadata": {},
   "source": [
    "### Particular matrices"
   ]
  },
  {
   "cell_type": "markdown",
   "metadata": {},
   "source": [
    "Like with the `numpy` library, some particular matrices are defined, with zeros or ones, for instance:"
   ]
  },
  {
   "cell_type": "code",
   "execution_count": null,
   "metadata": {},
   "outputs": [],
   "source": [
    "# Create a zero-matrix tensor (tf.zeros)\n",
    "\n",
    "# Create a zero-matrix tensor based on a model (tf.zeros_like)\n",
    "\n",
    "# Same operations with one-matrix (tf.ones, tf.ones_like)\n",
    "\n",
    "# Create a matrix with any value based on a model (tf.fill)\n",
    "\n",
    "# Print these matrices within a session(format: \"Matrice nulle:\\n{0}\\nMatrice nulle basée sur un modèle:\\n{1}\\nMatrice de '1':\\n{2}\\nMatrice de '8':\\n{3}\")\n"
   ]
  },
  {
   "cell_type": "markdown",
   "metadata": {},
   "source": [
    "### Random generator"
   ]
  },
  {
   "cell_type": "markdown",
   "metadata": {},
   "source": [
    "`Tensorflow` allows to use random generators as well (useful for variable initialization, for instance):"
   ]
  },
  {
   "cell_type": "code",
   "execution_count": null,
   "metadata": {},
   "outputs": [],
   "source": [
    "# Define a random gaussian matrix tensor with the given mean (mu) and standard deviation (sigma)\n",
    "mu = 10\n",
    "sigma = 1\n",
    "\n",
    "# Print the matrix within a session (format: \"Matrice normale ({0},{1}):\\n{2}\")\n"
   ]
  },
  {
   "cell_type": "markdown",
   "metadata": {},
   "source": [
    "## Variables"
   ]
  },
  {
   "cell_type": "markdown",
   "metadata": {},
   "source": [
    "`Tensorflow` of course propose more interessant features than constants. For instance, there are variables:"
   ]
  },
  {
   "cell_type": "code",
   "execution_count": null,
   "metadata": {
    "collapsed": true
   },
   "outputs": [],
   "source": [
    "# Define three variables v1, v2 and v3 respectively being a scalar, a vector and a matrix.\n",
    "\n",
    "# Do not forget to initialize them (in Tensorflow, the initialization and declaration steps are distinguished)\n",
    "# Tensorflow trick: initializers are tensors too!\n",
    "# Different choice: initializer, variables_initializer, global_variable_initializer\n"
   ]
  },
  {
   "cell_type": "markdown",
   "metadata": {},
   "source": [
    "Be careful with the variable definition and initialization: the variable value does not correspond to the tensor value. Moreover, the variable value is available only after variable initialization."
   ]
  },
  {
   "cell_type": "code",
   "execution_count": null,
   "metadata": {},
   "outputs": [],
   "source": [
    "with tf.Session() as sess:\n",
    "    # Initialize the variable by running the initialization tensor\n",
    "    \n",
    "    # Print a tensor and its associated variable (.eval())\n",
    "    "
   ]
  },
  {
   "cell_type": "markdown",
   "metadata": {},
   "source": [
    "New values may be assigned to variables, through other tensors:"
   ]
  },
  {
   "cell_type": "code",
   "execution_count": null,
   "metadata": {},
   "outputs": [],
   "source": [
    "# Assign a new value for v2 (.assign())\n",
    "\n",
    "with tf.Session() as sess:\n",
    "    # Try to print the new value after a new initialization\n",
    "    \n",
    "    # Run the assignment tensor and print the variable\n"
   ]
  },
  {
   "cell_type": "markdown",
   "metadata": {},
   "source": [
    "## Placeholders"
   ]
  },
  {
   "cell_type": "markdown",
   "metadata": {},
   "source": [
    "Placeholders are a kind of variables that must be fed during a tensorflow session. They are the ideal structure to insert input data into computation process."
   ]
  },
  {
   "cell_type": "markdown",
   "metadata": {},
   "source": [
    "### Placeholder definition"
   ]
  },
  {
   "cell_type": "code",
   "execution_count": null,
   "metadata": {
    "collapsed": true
   },
   "outputs": [],
   "source": [
    "# Create two placeholders p1 and p2 with shape [1,3] and [3,1] respectively, filled with floats (tf.float32())\n"
   ]
  },
  {
   "cell_type": "markdown",
   "metadata": {},
   "source": [
    "### Operation on placeholders to make an output"
   ]
  },
  {
   "cell_type": "markdown",
   "metadata": {},
   "source": [
    "New tensors can be designed starting from placeholders:"
   ]
  },
  {
   "cell_type": "code",
   "execution_count": null,
   "metadata": {
    "collapsed": true
   },
   "outputs": [],
   "source": [
    "# Create a tensor pmult, by multiplying p1 and p2 and by adding a matrix of ones to the result (be careful to the shape!)\n"
   ]
  },
  {
   "cell_type": "markdown",
   "metadata": {},
   "source": [
    "### Execution of the code within a session"
   ]
  },
  {
   "cell_type": "code",
   "execution_count": null,
   "metadata": {},
   "outputs": [],
   "source": [
    "data1 = [[1,2,3]]\n",
    "data2 = [[10],[20],[30]]\n",
    "with tf.Session() as sess:\n",
    "    # Compute the value of pmult by using data1 and data2 matrices (feed_dict parameter)\n",
    "    \n",
    "    print(\"Sum of placeholder matrices:\\n{}\".format(placeholder_mult))"
   ]
  },
  {
   "cell_type": "markdown",
   "metadata": {},
   "source": [
    "## Graph visualisation"
   ]
  },
  {
   "cell_type": "markdown",
   "metadata": {},
   "source": [
    "A dummy sequence of operations is designed, to elaborate a small example graph."
   ]
  },
  {
   "cell_type": "code",
   "execution_count": null,
   "metadata": {},
   "outputs": [],
   "source": [
    "import numpy as np\n",
    "\n",
    "p3 = tf.placeholder(tf.float32, shape=(), name=\"placeholder3\")\n",
    "p4 = tf.placeholder(tf.float32, shape=(), name=\"placeholder4\")\n",
    "\n",
    "padd = tf.add(pmult, p3)\n",
    "pequals = tf.equal(padd, p4)\n",
    "panswer = tf.reshape(pequals, [])\n",
    "\n",
    "with tf.Session() as sess:\n",
    "    # Create a graph writer to visualize every tensors of the working session (tf.summary.FileWriter)\n",
    "\n",
    "    answer = sess.run(panswer, feed_dict={p1: data1, p2: data2, p3: 1000, p4: 1141})\n",
    "    print(\"Does the fourth value equal the result obtained with the three others? {}\".format(answer))"
   ]
  },
  {
   "cell_type": "markdown",
   "metadata": {},
   "source": [
    "Then the graph can be showed onto the local server, with the proper port. The shell command is the following one:\n",
    "\n",
    "`tensorboard --logdir './graphs/intro' --port 6006`"
   ]
  },
  {
   "cell_type": "markdown",
   "metadata": {},
   "source": [
    "## TD;LR"
   ]
  },
  {
   "cell_type": "markdown",
   "metadata": {},
   "source": [
    "Tensorflow:\n",
    "+ allows to handle constants and variables of different shapes\n",
    "+ represents operations in a graph\n",
    "+ separates the graph conception from the numerical operations\n",
    "+ needs the opening of a dedicated session to apply operations within a pre-built graph\n",
    "+ and its `tensorboard` command shows the graph and every tensorflow objects on the local server"
   ]
  }
 ],
 "metadata": {
  "kernelspec": {
   "display_name": "Python 3",
   "language": "python",
   "name": "python3"
  },
  "language_info": {
   "codemirror_mode": {
    "name": "ipython",
    "version": 3
   },
   "file_extension": ".py",
   "mimetype": "text/x-python",
   "name": "python",
   "nbconvert_exporter": "python",
   "pygments_lexer": "ipython3",
   "version": "3.5.2"
  }
 },
 "nbformat": 4,
 "nbformat_minor": 2
}

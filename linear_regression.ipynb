{
 "cells": [
  {
   "cell_type": "markdown",
   "metadata": {},
   "source": [
    "# Linear Regression with Tensorflow"
   ]
  },
  {
   "cell_type": "markdown",
   "metadata": {},
   "source": [
    "This notebook will show how to make a linear regression with the help of the `Tensorflow` library. As an example, a set of OpenStreetMap elements gathered around Bordeaux will be used. The goal of the notebook is to predict the number of contributors for each element, starting from a set of other element characteristics."
   ]
  },
  {
   "cell_type": "markdown",
   "metadata": {},
   "source": [
    "## Step 0: module imports"
   ]
  },
  {
   "cell_type": "markdown",
   "metadata": {},
   "source": [
    "`matplotlib` will be used to plot regression results, `os` is necessary for relative path handling, then `pandas` is used to handle the input dataframe, and of course, `tensorflow` will be needed to do the regression."
   ]
  },
  {
   "cell_type": "code",
   "execution_count": 1,
   "metadata": {
    "collapsed": true
   },
   "outputs": [],
   "source": [
    "%matplotlib inline"
   ]
  },
  {
   "cell_type": "code",
   "execution_count": 2,
   "metadata": {
    "collapsed": true
   },
   "outputs": [],
   "source": [
    "import math\n",
    "import matplotlib.pyplot as plt\n",
    "import os\n",
    "import pandas as pd\n",
    "import tensorflow as tf"
   ]
  },
  {
   "cell_type": "markdown",
   "metadata": {},
   "source": [
    "## Step 1: data recovering and preparation"
   ]
  },
  {
   "cell_type": "markdown",
   "metadata": {},
   "source": [
    "The used data describes a set of OSM elements, we admit it is available on the computer."
   ]
  },
  {
   "cell_type": "code",
   "execution_count": 3,
   "metadata": {},
   "outputs": [
    {
     "name": "stderr",
     "output_type": "stream",
     "text": [
      "/usr/local/lib/python3.5/dist-packages/numpy/lib/arraysetops.py:463: FutureWarning: elementwise comparison failed; returning scalar instead, but in the future will perform elementwise comparison\n",
      "  mask |= (ar1 == a)\n"
     ]
    },
    {
     "data": {
      "text/plain": [
       "(2760999, 17)"
      ]
     },
     "execution_count": 3,
     "metadata": {},
     "output_type": "execute_result"
    }
   ],
   "source": [
    "data = pd.read_csv(\"/home/rde/data/osm-history/output-extracts/bordeaux-metropole/element-metadata.csv\", index_col=0)\n",
    "data.shape"
   ]
  },
  {
   "cell_type": "markdown",
   "metadata": {},
   "source": [
    "We have 2760999 individuals in this table, described by 17 different features. One can provide a short extract of this dataset:"
   ]
  },
  {
   "cell_type": "code",
   "execution_count": 1,
   "metadata": {},
   "outputs": [
    {
     "ename": "NameError",
     "evalue": "name 'data' is not defined",
     "output_type": "error",
     "traceback": [
      "\u001b[0;31m---------------------------------------------------------------------------\u001b[0m",
      "\u001b[0;31mNameError\u001b[0m                                 Traceback (most recent call last)",
      "\u001b[0;32m<ipython-input-1-6edfe9dc5bc5>\u001b[0m in \u001b[0;36m<module>\u001b[0;34m()\u001b[0m\n\u001b[0;32m----> 1\u001b[0;31m \u001b[0mdata\u001b[0m\u001b[0;34m.\u001b[0m\u001b[0msample\u001b[0m\u001b[0;34m(\u001b[0m\u001b[0;36m6\u001b[0m\u001b[0;34m)\u001b[0m\u001b[0;34m.\u001b[0m\u001b[0mT\u001b[0m\u001b[0;34m\u001b[0m\u001b[0m\n\u001b[0m",
      "\u001b[0;31mNameError\u001b[0m: name 'data' is not defined"
     ]
    }
   ],
   "source": [
    "data.sample(6).T"
   ]
  },
  {
   "cell_type": "markdown",
   "metadata": {},
   "source": [
    "In this study, we will consider the number of contributors as the output to predict. We select a small set of features as predictors: the number of days between first and last modifications, the number of days since first modification, the number of days during which modifications arised, the last version, the number of change sets and the numbers of autocorrections and corrections."
   ]
  },
  {
   "cell_type": "code",
   "execution_count": 2,
   "metadata": {},
   "outputs": [
    {
     "ename": "NameError",
     "evalue": "name 'data' is not defined",
     "output_type": "error",
     "traceback": [
      "\u001b[0;31m---------------------------------------------------------------------------\u001b[0m",
      "\u001b[0;31mNameError\u001b[0m                                 Traceback (most recent call last)",
      "\u001b[0;32m<ipython-input-2-ce7ea63ec934>\u001b[0m in \u001b[0;36m<module>\u001b[0;34m()\u001b[0m\n\u001b[0;32m----> 1\u001b[0;31m \u001b[0mdata_x\u001b[0m \u001b[0;34m=\u001b[0m \u001b[0mdata\u001b[0m\u001b[0;34m[\u001b[0m\u001b[0;34m[\u001b[0m\u001b[0;34m\"lifespan\"\u001b[0m\u001b[0;34m,\u001b[0m \u001b[0;34m\"n_inscription_days\"\u001b[0m\u001b[0;34m,\u001b[0m \u001b[0;34m\"n_activity_days\"\u001b[0m\u001b[0;34m,\u001b[0m \u001b[0;34m\"version\"\u001b[0m\u001b[0;34m,\u001b[0m \u001b[0;34m\"n_chgset\"\u001b[0m\u001b[0;34m,\u001b[0m \u001b[0;34m\"n_autocorr\"\u001b[0m\u001b[0;34m,\u001b[0m \u001b[0;34m\"n_corr\"\u001b[0m\u001b[0;34m]\u001b[0m\u001b[0;34m]\u001b[0m\u001b[0;34m.\u001b[0m\u001b[0mvalues\u001b[0m\u001b[0;34m\u001b[0m\u001b[0m\n\u001b[0m\u001b[1;32m      2\u001b[0m \u001b[0mdata_y\u001b[0m \u001b[0;34m=\u001b[0m \u001b[0mdata\u001b[0m\u001b[0;34m[\u001b[0m\u001b[0;34m[\u001b[0m\u001b[0;34m\"n_user\"\u001b[0m\u001b[0;34m]\u001b[0m\u001b[0;34m]\u001b[0m\u001b[0;34m.\u001b[0m\u001b[0mvalues\u001b[0m\u001b[0;34m\u001b[0m\u001b[0m\n",
      "\u001b[0;31mNameError\u001b[0m: name 'data' is not defined"
     ]
    }
   ],
   "source": [
    "data_x = data[[\"lifespan\", \"n_inscription_days\", \"n_activity_days\", \"version\", \"n_chgset\", \"n_autocorr\", \"n_corr\"]].values\n",
    "data_y = data[[\"n_user\"]].values"
   ]
  },
  {
   "cell_type": "code",
   "execution_count": 6,
   "metadata": {},
   "outputs": [
    {
     "name": "stdout",
     "output_type": "stream",
     "text": [
      "(2760999, 7)\n",
      "(2760999, 1)\n"
     ]
    }
   ],
   "source": [
    "print(data_x.shape)\n",
    "print(data_y.shape)"
   ]
  },
  {
   "cell_type": "markdown",
   "metadata": {},
   "source": [
    "As a good practice, we can use the dedicated `sklearn` function to split the dataset into **train** and **test** data."
   ]
  },
  {
   "cell_type": "code",
   "execution_count": 7,
   "metadata": {
    "collapsed": true
   },
   "outputs": [],
   "source": [
    "from sklearn.model_selection import train_test_split\n",
    "x_train, x_test, y_train, y_test = train_test_split(data_x, data_y, test_size=0.1)"
   ]
  },
  {
   "cell_type": "code",
   "execution_count": 8,
   "metadata": {},
   "outputs": [
    {
     "name": "stdout",
     "output_type": "stream",
     "text": [
      "(2484899, 7)\n",
      "(276100, 7)\n",
      "(2484899, 1)\n",
      "(276100, 1)\n"
     ]
    }
   ],
   "source": [
    "print(x_train.shape)\n",
    "print(x_test.shape)\n",
    "print(y_train.shape)\n",
    "print(y_test.shape)"
   ]
  },
  {
   "cell_type": "markdown",
   "metadata": {},
   "source": [
    "## Step 2: Parameter settings"
   ]
  },
  {
   "cell_type": "code",
   "execution_count": 9,
   "metadata": {
    "collapsed": true
   },
   "outputs": [],
   "source": [
    "# Parameters\n",
    "learning_rate = 0.01\n",
    "training_epochs = 15000\n",
    "display_step = 50"
   ]
  },
  {
   "cell_type": "markdown",
   "metadata": {},
   "source": [
    "## Step 3: Prepare the checkpoint creation"
   ]
  },
  {
   "cell_type": "code",
   "execution_count": 10,
   "metadata": {
    "collapsed": true
   },
   "outputs": [],
   "source": [
    "def make_dir(path):\n",
    "    \"\"\" Create a directory if there isn't one already. \"\"\"\n",
    "    try:\n",
    "        os.mkdir(path)\n",
    "    except OSError:\n",
    "        pass\n",
    "make_dir('checkpoints')\n",
    "make_dir('checkpoints/linreg_osm')\n",
    "\n",
    "global_step = tf.Variable(0, dtype=tf.int32, trainable=False, name='global_step')\n"
   ]
  },
  {
   "cell_type": "markdown",
   "metadata": {},
   "source": [
    "## Step 4: Tensorflow model design"
   ]
  },
  {
   "cell_type": "markdown",
   "metadata": {},
   "source": [
    "We need to tensors, *i.e.* one for inputs and one for outputs."
   ]
  },
  {
   "cell_type": "code",
   "execution_count": 11,
   "metadata": {
    "collapsed": true
   },
   "outputs": [],
   "source": [
    "with tf.name_scope(\"data\"):\n",
    "    X = tf.placeholder(tf.float32, name=\"X\")\n",
    "    Y = tf.placeholder(tf.float32, name=\"Y\")"
   ]
  },
  {
   "cell_type": "markdown",
   "metadata": {},
   "source": [
    "The linear regression is defined through weights and biases, that are set as tensorflow variables, and injected into the output variable `predictions`. A hidden layer is added to"
   ]
  },
  {
   "cell_type": "code",
   "execution_count": 12,
   "metadata": {
    "collapsed": true
   },
   "outputs": [],
   "source": [
    "with tf.name_scope(\"linear_reg\"):\n",
    "    w = tf.get_variable('weights', [data_x.shape[1], 1], initializer=tf.truncated_normal_initializer())\n",
    "    b = tf.get_variable('biases', [1], initializer=tf.constant_initializer(0.0))\n",
    "    predictions = tf.add(tf.matmul(X, w), b)"
   ]
  },
  {
   "cell_type": "markdown",
   "metadata": {},
   "source": [
    "The cost function is the sum of squares of differences between predictions and true outputs. A regularization term is added to this value."
   ]
  },
  {
   "cell_type": "code",
   "execution_count": 13,
   "metadata": {
    "collapsed": true
   },
   "outputs": [],
   "source": [
    "with tf.name_scope('loss'):\n",
    "    # loss function + regularization value\n",
    "    loss = tf.reduce_sum(tf.square(predictions - Y)) + 0.01 * tf.nn.l2_loss(w)"
   ]
  },
  {
   "cell_type": "markdown",
   "metadata": {},
   "source": [
    "We use Adam optimizer to update the model variable."
   ]
  },
  {
   "cell_type": "code",
   "execution_count": 14,
   "metadata": {
    "collapsed": true
   },
   "outputs": [],
   "source": [
    "with tf.name_scope('train'):\n",
    "    train_op = tf.train.AdamOptimizer(learning_rate).minimize(loss, global_step=global_step)"
   ]
  },
  {
   "cell_type": "markdown",
   "metadata": {},
   "source": [
    "## Step 5: Variable initialization"
   ]
  },
  {
   "cell_type": "code",
   "execution_count": 15,
   "metadata": {
    "collapsed": true
   },
   "outputs": [],
   "source": [
    "init = tf.global_variables_initializer()"
   ]
  },
  {
   "cell_type": "markdown",
   "metadata": {},
   "source": [
    "## Final step: running the model"
   ]
  },
  {
   "cell_type": "markdown",
   "metadata": {},
   "source": [
    "First we have to open a new session, initialize the variable, and prepare the graph and checkpoint utilities:"
   ]
  },
  {
   "cell_type": "code",
   "execution_count": 16,
   "metadata": {
    "collapsed": true
   },
   "outputs": [],
   "source": [
    "session = tf.Session()\n",
    "session.run(init)\n",
    "\n",
    "saver = tf.train.Saver()\n",
    "writer = tf.summary.FileWriter('./graphs/linreg', session.graph)\n",
    "##### You have to create folders to store checkpoints\n",
    "ckpt = tf.train.get_checkpoint_state(os.path.dirname('checkpoints/linreg_osm/checkpoint'))\n",
    "# if that checkpoint exists, restore from checkpoint\n",
    "if ckpt and ckpt.model_checkpoint_path:\n",
    "    saver.restore(session, ckpt.model_checkpoint_path)\n",
    "\n",
    "initial_step = global_step.eval(session=session)"
   ]
  },
  {
   "cell_type": "markdown",
   "metadata": {},
   "source": [
    "The model is ready to be trained. We proceed to as many training steps as indicated by the previous parametrization."
   ]
  },
  {
   "cell_type": "code",
   "execution_count": 17,
   "metadata": {},
   "outputs": [
    {
     "name": "stdout",
     "output_type": "stream",
     "text": [
      "### Training step ###\n",
      "*** Epoch 0050 cost=56405721088.0\n",
      "n_user = -0.349*X1 + 0.073*X2 + -0.025*X3 + -0.134*X4 + -0.103*X5 + -0.509*X6 + -0.849*X7 + -0.390 ***\n",
      "*** Epoch 0100 cost=176554400.0\n",
      "n_user = -0.019*X1 + 0.005*X2 + -0.063*X3 + -0.161*X4 + -0.139*X5 + -0.344*X6 + -0.645*X7 + -0.465 ***\n",
      "*** Epoch 0150 cost=7448446.0\n",
      "n_user = 0.004*X1 + 0.001*X2 + -0.064*X3 + -0.158*X4 + -0.139*X5 + -0.302*X6 + -0.621*X7 + -0.470 ***\n",
      "*** Epoch 0200 cost=4996612.0\n",
      "n_user = 0.002*X1 + 0.001*X2 + -0.062*X3 + -0.153*X4 + -0.136*X5 + -0.267*X6 + -0.611*X7 + -0.469 ***\n",
      "*** Epoch 0250 cost=4577138.0\n",
      "n_user = 0.002*X1 + 0.001*X2 + -0.060*X3 + -0.147*X4 + -0.133*X5 + -0.228*X6 + -0.598*X7 + -0.469 ***\n",
      "*** Epoch 0300 cost=4170148.5\n",
      "n_user = 0.002*X1 + 0.001*X2 + -0.058*X3 + -0.141*X4 + -0.130*X5 + -0.187*X6 + -0.584*X7 + -0.468 ***\n",
      "*** Epoch 0350 cost=3782234.0\n",
      "n_user = 0.002*X1 + 0.001*X2 + -0.055*X3 + -0.135*X4 + -0.127*X5 + -0.145*X6 + -0.570*X7 + -0.468 ***\n",
      "*** Epoch 0400 cost=3420019.0\n",
      "n_user = 0.002*X1 + 0.001*X2 + -0.053*X3 + -0.129*X4 + -0.124*X5 + -0.104*X6 + -0.554*X7 + -0.468 ***\n",
      "*** Epoch 0450 cost=3089632.75\n",
      "n_user = 0.002*X1 + 0.001*X2 + -0.051*X3 + -0.123*X4 + -0.121*X5 + -0.064*X6 + -0.539*X7 + -0.467 ***\n",
      "*** Epoch 0500 cost=2793343.5\n",
      "n_user = 0.002*X1 + 0.001*X2 + -0.048*X3 + -0.116*X4 + -0.118*X5 + -0.025*X6 + -0.523*X7 + -0.467 ***\n",
      "*** Epoch 0550 cost=2531845.0\n",
      "n_user = 0.001*X1 + 0.001*X2 + -0.046*X3 + -0.110*X4 + -0.114*X5 + 0.013*X6 + -0.507*X7 + -0.466 ***\n",
      "*** Epoch 0600 cost=2304561.5\n",
      "n_user = 0.001*X1 + 0.001*X2 + -0.043*X3 + -0.105*X4 + -0.111*X5 + 0.048*X6 + -0.491*X7 + -0.466 ***\n",
      "*** Epoch 0650 cost=2108734.5\n",
      "n_user = 0.001*X1 + 0.001*X2 + -0.041*X3 + -0.099*X4 + -0.108*X5 + 0.080*X6 + -0.474*X7 + -0.465 ***\n",
      "*** Epoch 0700 cost=1942148.75\n",
      "n_user = 0.001*X1 + 0.001*X2 + -0.038*X3 + -0.094*X4 + -0.104*X5 + 0.110*X6 + -0.458*X7 + -0.465 ***\n",
      "*** Epoch 0750 cost=1800956.375\n",
      "n_user = 0.001*X1 + 0.001*X2 + -0.035*X3 + -0.089*X4 + -0.101*X5 + 0.137*X6 + -0.442*X7 + -0.464 ***\n",
      "*** Epoch 0800 cost=1681953.75\n",
      "n_user = 0.001*X1 + 0.001*X2 + -0.033*X3 + -0.084*X4 + -0.098*X5 + 0.161*X6 + -0.426*X7 + -0.464 ***\n",
      "*** Epoch 0850 cost=1582323.375\n",
      "n_user = 0.001*X1 + 0.001*X2 + -0.030*X3 + -0.080*X4 + -0.095*X5 + 0.182*X6 + -0.410*X7 + -0.463 ***\n",
      "*** Epoch 0900 cost=1498424.75\n",
      "n_user = 0.001*X1 + 0.001*X2 + -0.028*X3 + -0.075*X4 + -0.091*X5 + 0.200*X6 + -0.394*X7 + -0.463 ***\n",
      "*** Epoch 0950 cost=1427101.125\n",
      "n_user = 0.001*X1 + 0.001*X2 + -0.025*X3 + -0.072*X4 + -0.088*X5 + 0.216*X6 + -0.378*X7 + -0.462 ***\n",
      "*** Epoch 1000 cost=1365901.125\n",
      "n_user = 0.001*X1 + 0.001*X2 + -0.023*X3 + -0.068*X4 + -0.085*X5 + 0.229*X6 + -0.363*X7 + -0.461 ***\n",
      "*** Epoch 1050 cost=1313114.625\n",
      "n_user = 0.001*X1 + 0.001*X2 + -0.020*X3 + -0.065*X4 + -0.082*X5 + 0.239*X6 + -0.347*X7 + -0.460 ***\n",
      "*** Epoch 1100 cost=1266514.5\n",
      "n_user = 0.001*X1 + 0.001*X2 + -0.018*X3 + -0.061*X4 + -0.079*X5 + 0.247*X6 + -0.332*X7 + -0.460 ***\n",
      "*** Epoch 1150 cost=1224841.5\n",
      "n_user = 0.001*X1 + 0.001*X2 + -0.015*X3 + -0.059*X4 + -0.076*X5 + 0.253*X6 + -0.317*X7 + -0.459 ***\n",
      "*** Epoch 1200 cost=1186907.75\n",
      "n_user = 0.001*X1 + 0.001*X2 + -0.013*X3 + -0.056*X4 + -0.073*X5 + 0.257*X6 + -0.301*X7 + -0.458 ***\n",
      "*** Epoch 1250 cost=1151478.625\n",
      "n_user = 0.001*X1 + 0.001*X2 + -0.010*X3 + -0.053*X4 + -0.070*X5 + 0.259*X6 + -0.286*X7 + -0.457 ***\n",
      "*** Epoch 1300 cost=1118124.5\n",
      "n_user = 0.001*X1 + 0.001*X2 + -0.007*X3 + -0.051*X4 + -0.067*X5 + 0.259*X6 + -0.271*X7 + -0.456 ***\n",
      "*** Epoch 1350 cost=1086222.5\n",
      "n_user = 0.001*X1 + 0.001*X2 + -0.005*X3 + -0.049*X4 + -0.064*X5 + 0.258*X6 + -0.256*X7 + -0.456 ***\n",
      "*** Epoch 1400 cost=1055267.25\n",
      "n_user = 0.001*X1 + 0.001*X2 + -0.002*X3 + -0.046*X4 + -0.061*X5 + 0.256*X6 + -0.241*X7 + -0.455 ***\n",
      "*** Epoch 1450 cost=1025287.5\n",
      "n_user = 0.001*X1 + 0.001*X2 + 0.000*X3 + -0.044*X4 + -0.058*X5 + 0.253*X6 + -0.226*X7 + -0.454 ***\n",
      "*** Epoch 1500 cost=995871.0625\n",
      "n_user = 0.001*X1 + 0.001*X2 + 0.003*X3 + -0.042*X4 + -0.055*X5 + 0.248*X6 + -0.210*X7 + -0.453 ***\n",
      "*** Epoch 1550 cost=967059.375\n",
      "n_user = 0.001*X1 + 0.001*X2 + 0.006*X3 + -0.040*X4 + -0.052*X5 + 0.243*X6 + -0.195*X7 + -0.452 ***\n",
      "*** Epoch 1600 cost=938550.75\n",
      "n_user = 0.001*X1 + 0.001*X2 + 0.008*X3 + -0.039*X4 + -0.049*X5 + 0.237*X6 + -0.180*X7 + -0.451 ***\n",
      "*** Epoch 1650 cost=910380.0\n",
      "n_user = 0.001*X1 + 0.001*X2 + 0.011*X3 + -0.037*X4 + -0.046*X5 + 0.231*X6 + -0.165*X7 + -0.450 ***\n",
      "*** Epoch 1700 cost=882914.6875\n",
      "n_user = 0.001*X1 + 0.001*X2 + 0.014*X3 + -0.035*X4 + -0.043*X5 + 0.224*X6 + -0.149*X7 + -0.449 ***\n",
      "*** Epoch 1750 cost=855729.1875\n",
      "n_user = 0.001*X1 + 0.001*X2 + 0.016*X3 + -0.033*X4 + -0.040*X5 + 0.216*X6 + -0.134*X7 + -0.448 ***\n",
      "*** Epoch 1800 cost=829011.5\n",
      "n_user = 0.001*X1 + 0.001*X2 + 0.019*X3 + -0.031*X4 + -0.037*X5 + 0.209*X6 + -0.119*X7 + -0.446 ***\n",
      "*** Epoch 1850 cost=802856.5\n",
      "n_user = 0.001*X1 + 0.001*X2 + 0.022*X3 + -0.029*X4 + -0.034*X5 + 0.201*X6 + -0.103*X7 + -0.445 ***\n",
      "*** Epoch 1900 cost=777163.0625\n",
      "n_user = 0.001*X1 + 0.001*X2 + 0.024*X3 + -0.028*X4 + -0.031*X5 + 0.192*X6 + -0.088*X7 + -0.444 ***\n",
      "*** Epoch 1950 cost=751932.375\n",
      "n_user = 0.001*X1 + 0.001*X2 + 0.027*X3 + -0.026*X4 + -0.028*X5 + 0.184*X6 + -0.073*X7 + -0.443 ***\n",
      "*** Epoch 2000 cost=727449.875\n",
      "n_user = 0.001*X1 + 0.001*X2 + 0.030*X3 + -0.024*X4 + -0.025*X5 + 0.175*X6 + -0.058*X7 + -0.442 ***\n",
      "*** Epoch 2050 cost=703326.875\n",
      "n_user = 0.001*X1 + 0.001*X2 + 0.033*X3 + -0.022*X4 + -0.022*X5 + 0.167*X6 + -0.042*X7 + -0.440 ***\n",
      "*** Epoch 2100 cost=680084.0\n",
      "n_user = 0.001*X1 + 0.001*X2 + 0.036*X3 + -0.020*X4 + -0.019*X5 + 0.158*X6 + -0.027*X7 + -0.439 ***\n",
      "*** Epoch 2150 cost=657277.625\n",
      "n_user = 0.001*X1 + 0.001*X2 + 0.039*X3 + -0.018*X4 + -0.016*X5 + 0.149*X6 + -0.012*X7 + -0.438 ***\n",
      "*** Epoch 2200 cost=635130.75\n",
      "n_user = 0.001*X1 + 0.001*X2 + 0.041*X3 + -0.016*X4 + -0.013*X5 + 0.140*X6 + 0.003*X7 + -0.437 ***\n",
      "*** Epoch 2250 cost=613640.125\n",
      "n_user = 0.001*X1 + 0.001*X2 + 0.044*X3 + -0.014*X4 + -0.010*X5 + 0.131*X6 + 0.018*X7 + -0.435 ***\n",
      "*** Epoch 2300 cost=592847.75\n",
      "n_user = 0.001*X1 + 0.001*X2 + 0.047*X3 + -0.013*X4 + -0.007*X5 + 0.122*X6 + 0.033*X7 + -0.434 ***\n",
      "*** Epoch 2350 cost=572887.4375\n",
      "n_user = 0.000*X1 + 0.001*X2 + 0.050*X3 + -0.011*X4 + -0.004*X5 + 0.113*X6 + 0.048*X7 + -0.432 ***\n",
      "*** Epoch 2400 cost=553480.625\n",
      "n_user = 0.000*X1 + 0.001*X2 + 0.053*X3 + -0.009*X4 + -0.000*X5 + 0.104*X6 + 0.062*X7 + -0.431 ***\n",
      "*** Epoch 2450 cost=534893.0\n",
      "n_user = 0.000*X1 + 0.001*X2 + 0.056*X3 + -0.007*X4 + 0.003*X5 + 0.095*X6 + 0.077*X7 + -0.429 ***\n",
      "*** Epoch 2500 cost=516969.25\n",
      "n_user = 0.000*X1 + 0.001*X2 + 0.058*X3 + -0.005*X4 + 0.006*X5 + 0.086*X6 + 0.091*X7 + -0.428 ***\n",
      "*** Epoch 2550 cost=499665.6875\n",
      "n_user = 0.000*X1 + 0.001*X2 + 0.061*X3 + -0.003*X4 + 0.009*X5 + 0.077*X6 + 0.105*X7 + -0.426 ***\n",
      "*** Epoch 2600 cost=483243.78125\n",
      "n_user = 0.000*X1 + 0.001*X2 + 0.064*X3 + -0.001*X4 + 0.012*X5 + 0.068*X6 + 0.119*X7 + -0.425 ***\n",
      "*** Epoch 2650 cost=467379.5\n",
      "n_user = 0.000*X1 + 0.001*X2 + 0.067*X3 + 0.001*X4 + 0.015*X5 + 0.059*X6 + 0.132*X7 + -0.423 ***\n",
      "*** Epoch 2700 cost=452301.4375\n",
      "n_user = 0.000*X1 + 0.001*X2 + 0.070*X3 + 0.003*X4 + 0.018*X5 + 0.050*X6 + 0.145*X7 + -0.421 ***\n",
      "*** Epoch 2750 cost=437919.875\n",
      "n_user = 0.000*X1 + 0.001*X2 + 0.073*X3 + 0.005*X4 + 0.021*X5 + 0.042*X6 + 0.158*X7 + -0.420 ***\n",
      "*** Epoch 2800 cost=424264.0\n",
      "n_user = 0.000*X1 + 0.001*X2 + 0.075*X3 + 0.007*X4 + 0.023*X5 + 0.033*X6 + 0.171*X7 + -0.418 ***\n",
      "*** Epoch 2850 cost=411282.4375\n",
      "n_user = 0.000*X1 + 0.001*X2 + 0.078*X3 + 0.010*X4 + 0.026*X5 + 0.025*X6 + 0.183*X7 + -0.416 ***\n",
      "*** Epoch 2900 cost=398961.0625\n",
      "n_user = 0.000*X1 + 0.001*X2 + 0.081*X3 + 0.012*X4 + 0.029*X5 + 0.016*X6 + 0.196*X7 + -0.415 ***\n",
      "*** Epoch 2950 cost=387324.875\n",
      "n_user = 0.000*X1 + 0.001*X2 + 0.084*X3 + 0.014*X4 + 0.032*X5 + 0.008*X6 + 0.207*X7 + -0.413 ***\n",
      "*** Epoch 3000 cost=376142.3125\n",
      "n_user = 0.000*X1 + 0.001*X2 + 0.086*X3 + 0.016*X4 + 0.035*X5 + -0.001*X6 + 0.219*X7 + -0.411 ***\n",
      "*** Epoch 3050 cost=365793.0625\n",
      "n_user = 0.000*X1 + 0.001*X2 + 0.089*X3 + 0.018*X4 + 0.037*X5 + -0.009*X6 + 0.230*X7 + -0.409 ***\n",
      "*** Epoch 3100 cost=355856.3125\n",
      "n_user = 0.000*X1 + 0.001*X2 + 0.092*X3 + 0.020*X4 + 0.040*X5 + -0.017*X6 + 0.240*X7 + -0.407 ***\n",
      "*** Epoch 3150 cost=346528.875\n",
      "n_user = 0.000*X1 + 0.001*X2 + 0.094*X3 + 0.022*X4 + 0.043*X5 + -0.025*X6 + 0.251*X7 + -0.405 ***\n"
     ]
    },
    {
     "name": "stdout",
     "output_type": "stream",
     "text": [
      "*** Epoch 3200 cost=337795.125\n",
      "n_user = 0.000*X1 + 0.001*X2 + 0.097*X3 + 0.024*X4 + 0.045*X5 + -0.033*X6 + 0.260*X7 + -0.403 ***\n",
      "*** Epoch 3250 cost=329575.46875\n",
      "n_user = 0.000*X1 + 0.001*X2 + 0.099*X3 + 0.027*X4 + 0.048*X5 + -0.040*X6 + 0.270*X7 + -0.401 ***\n",
      "*** Epoch 3300 cost=321794.375\n",
      "n_user = 0.000*X1 + 0.001*X2 + 0.102*X3 + 0.029*X4 + 0.050*X5 + -0.048*X6 + 0.279*X7 + -0.399 ***\n",
      "*** Epoch 3350 cost=314510.6875\n",
      "n_user = 0.000*X1 + 0.001*X2 + 0.105*X3 + 0.031*X4 + 0.053*X5 + -0.056*X6 + 0.287*X7 + -0.397 ***\n",
      "*** Epoch 3400 cost=307693.15625\n",
      "n_user = 0.000*X1 + 0.001*X2 + 0.107*X3 + 0.033*X4 + 0.055*X5 + -0.063*X6 + 0.296*X7 + -0.395 ***\n",
      "*** Epoch 3450 cost=301300.375\n",
      "n_user = 0.000*X1 + 0.001*X2 + 0.109*X3 + 0.035*X4 + 0.057*X5 + -0.070*X6 + 0.303*X7 + -0.393 ***\n",
      "*** Epoch 3500 cost=295298.125\n",
      "n_user = 0.000*X1 + 0.001*X2 + 0.112*X3 + 0.037*X4 + 0.060*X5 + -0.077*X6 + 0.311*X7 + -0.390 ***\n",
      "*** Epoch 3550 cost=289589.6875\n",
      "n_user = 0.000*X1 + 0.001*X2 + 0.114*X3 + 0.040*X4 + 0.062*X5 + -0.084*X6 + 0.317*X7 + -0.388 ***\n",
      "*** Epoch 3600 cost=284271.0\n",
      "n_user = 0.000*X1 + 0.001*X2 + 0.117*X3 + 0.042*X4 + 0.064*X5 + -0.091*X6 + 0.324*X7 + -0.386 ***\n",
      "*** Epoch 3650 cost=279307.15625\n",
      "n_user = 0.000*X1 + 0.001*X2 + 0.119*X3 + 0.044*X4 + 0.066*X5 + -0.098*X6 + 0.330*X7 + -0.383 ***\n",
      "*** Epoch 3700 cost=274640.5625\n",
      "n_user = 0.000*X1 + 0.001*X2 + 0.121*X3 + 0.046*X4 + 0.068*X5 + -0.104*X6 + 0.335*X7 + -0.381 ***\n",
      "*** Epoch 3750 cost=270139.40625\n",
      "n_user = 0.000*X1 + 0.001*X2 + 0.123*X3 + 0.049*X4 + 0.070*X5 + -0.111*X6 + 0.340*X7 + -0.379 ***\n",
      "*** Epoch 3800 cost=265935.90625\n",
      "n_user = 0.000*X1 + 0.001*X2 + 0.126*X3 + 0.051*X4 + 0.072*X5 + -0.117*X6 + 0.345*X7 + -0.376 ***\n",
      "*** Epoch 3850 cost=261913.140625\n",
      "n_user = 0.000*X1 + 0.001*X2 + 0.128*X3 + 0.053*X4 + 0.074*X5 + -0.123*X6 + 0.349*X7 + -0.374 ***\n",
      "*** Epoch 3900 cost=258147.375\n",
      "n_user = 0.000*X1 + 0.001*X2 + 0.130*X3 + 0.055*X4 + 0.076*X5 + -0.129*X6 + 0.352*X7 + -0.371 ***\n",
      "*** Epoch 3950 cost=254576.34375\n",
      "n_user = 0.000*X1 + 0.001*X2 + 0.132*X3 + 0.058*X4 + 0.077*X5 + -0.135*X6 + 0.356*X7 + -0.368 ***\n",
      "*** Epoch 4000 cost=251152.171875\n",
      "n_user = 0.000*X1 + 0.001*X2 + 0.134*X3 + 0.060*X4 + 0.079*X5 + -0.141*X6 + 0.358*X7 + -0.366 ***\n",
      "*** Epoch 4050 cost=247826.015625\n",
      "n_user = 0.000*X1 + 0.001*X2 + 0.136*X3 + 0.062*X4 + 0.081*X5 + -0.146*X6 + 0.361*X7 + -0.363 ***\n",
      "*** Epoch 4100 cost=244697.125\n",
      "n_user = 0.000*X1 + 0.001*X2 + 0.138*X3 + 0.065*X4 + 0.082*X5 + -0.152*X6 + 0.362*X7 + -0.360 ***\n",
      "*** Epoch 4150 cost=241630.6875\n",
      "n_user = 0.000*X1 + 0.001*X2 + 0.140*X3 + 0.067*X4 + 0.084*X5 + -0.157*X6 + 0.364*X7 + -0.358 ***\n",
      "*** Epoch 4200 cost=238693.96875\n",
      "n_user = 0.000*X1 + 0.001*X2 + 0.142*X3 + 0.069*X4 + 0.085*X5 + -0.162*X6 + 0.365*X7 + -0.355 ***\n",
      "*** Epoch 4250 cost=235792.0625\n",
      "n_user = 0.000*X1 + 0.001*X2 + 0.144*X3 + 0.072*X4 + 0.087*X5 + -0.167*X6 + 0.365*X7 + -0.352 ***\n",
      "*** Epoch 4300 cost=233011.515625\n",
      "n_user = 0.000*X1 + 0.001*X2 + 0.146*X3 + 0.074*X4 + 0.088*X5 + -0.173*X6 + 0.366*X7 + -0.349 ***\n",
      "*** Epoch 4350 cost=230287.1875\n",
      "n_user = 0.000*X1 + 0.001*X2 + 0.148*X3 + 0.076*X4 + 0.089*X5 + -0.177*X6 + 0.365*X7 + -0.346 ***\n",
      "*** Epoch 4400 cost=227590.21875\n",
      "n_user = 0.000*X1 + 0.001*X2 + 0.150*X3 + 0.079*X4 + 0.090*X5 + -0.182*X6 + 0.365*X7 + -0.343 ***\n",
      "*** Epoch 4450 cost=224963.765625\n",
      "n_user = 0.000*X1 + 0.001*X2 + 0.152*X3 + 0.081*X4 + 0.092*X5 + -0.187*X6 + 0.364*X7 + -0.340 ***\n",
      "*** Epoch 4500 cost=222401.28125\n",
      "n_user = 0.000*X1 + 0.001*X2 + 0.154*X3 + 0.084*X4 + 0.093*X5 + -0.192*X6 + 0.362*X7 + -0.337 ***\n",
      "*** Epoch 4550 cost=219861.5625\n",
      "n_user = -0.000*X1 + 0.001*X2 + 0.155*X3 + 0.086*X4 + 0.094*X5 + -0.196*X6 + 0.361*X7 + -0.333 ***\n",
      "*** Epoch 4600 cost=217324.375\n",
      "n_user = -0.000*X1 + 0.001*X2 + 0.157*X3 + 0.089*X4 + 0.095*X5 + -0.201*X6 + 0.359*X7 + -0.330 ***\n",
      "*** Epoch 4650 cost=214797.828125\n",
      "n_user = -0.000*X1 + 0.001*X2 + 0.159*X3 + 0.091*X4 + 0.096*X5 + -0.205*X6 + 0.357*X7 + -0.327 ***\n",
      "*** Epoch 4700 cost=212271.4375\n",
      "n_user = -0.000*X1 + 0.001*X2 + 0.161*X3 + 0.094*X4 + 0.097*X5 + -0.210*X6 + 0.354*X7 + -0.323 ***\n",
      "*** Epoch 4750 cost=209798.625\n",
      "n_user = -0.000*X1 + 0.001*X2 + 0.162*X3 + 0.097*X4 + 0.098*X5 + -0.214*X6 + 0.351*X7 + -0.320 ***\n",
      "*** Epoch 4800 cost=207324.75\n",
      "n_user = -0.000*X1 + 0.001*X2 + 0.164*X3 + 0.099*X4 + 0.099*X5 + -0.218*X6 + 0.348*X7 + -0.317 ***\n",
      "*** Epoch 4850 cost=204861.84375\n",
      "n_user = -0.000*X1 + 0.001*X2 + 0.166*X3 + 0.102*X4 + 0.100*X5 + -0.223*X6 + 0.345*X7 + -0.313 ***\n",
      "*** Epoch 4900 cost=202388.15625\n",
      "n_user = -0.000*X1 + 0.001*X2 + 0.168*X3 + 0.104*X4 + 0.101*X5 + -0.227*X6 + 0.341*X7 + -0.309 ***\n",
      "*** Epoch 4950 cost=199878.265625\n",
      "n_user = -0.000*X1 + 0.001*X2 + 0.169*X3 + 0.107*X4 + 0.102*X5 + -0.231*X6 + 0.337*X7 + -0.306 ***\n",
      "*** Epoch 5000 cost=197398.8125\n",
      "n_user = -0.000*X1 + 0.001*X2 + 0.171*X3 + 0.110*X4 + 0.102*X5 + -0.235*X6 + 0.333*X7 + -0.302 ***\n",
      "*** Epoch 5050 cost=194932.3125\n",
      "n_user = 0.000*X1 + 0.001*X2 + 0.173*X3 + 0.113*X4 + 0.103*X5 + -0.240*X6 + 0.329*X7 + -0.298 ***\n",
      "*** Epoch 5100 cost=192487.09375\n",
      "n_user = 0.000*X1 + 0.001*X2 + 0.175*X3 + 0.115*X4 + 0.104*X5 + -0.244*X6 + 0.324*X7 + -0.295 ***\n",
      "*** Epoch 5150 cost=190019.203125\n",
      "n_user = 0.000*X1 + 0.000*X2 + 0.176*X3 + 0.118*X4 + 0.105*X5 + -0.248*X6 + 0.319*X7 + -0.291 ***\n",
      "*** Epoch 5200 cost=187577.859375\n",
      "n_user = 0.000*X1 + 0.000*X2 + 0.178*X3 + 0.121*X4 + 0.105*X5 + -0.252*X6 + 0.315*X7 + -0.287 ***\n",
      "*** Epoch 5250 cost=185122.96875\n",
      "n_user = 0.000*X1 + 0.000*X2 + 0.180*X3 + 0.124*X4 + 0.106*X5 + -0.256*X6 + 0.310*X7 + -0.283 ***\n",
      "*** Epoch 5300 cost=182679.03125\n",
      "n_user = 0.000*X1 + 0.000*X2 + 0.181*X3 + 0.127*X4 + 0.107*X5 + -0.260*X6 + 0.304*X7 + -0.279 ***\n",
      "*** Epoch 5350 cost=180220.15625\n",
      "n_user = 0.000*X1 + 0.000*X2 + 0.183*X3 + 0.130*X4 + 0.107*X5 + -0.264*X6 + 0.299*X7 + -0.275 ***\n",
      "*** Epoch 5400 cost=177761.6875\n",
      "n_user = 0.000*X1 + 0.000*X2 + 0.185*X3 + 0.133*X4 + 0.108*X5 + -0.268*X6 + 0.294*X7 + -0.271 ***\n",
      "*** Epoch 5450 cost=175341.390625\n",
      "n_user = 0.000*X1 + 0.000*X2 + 0.187*X3 + 0.136*X4 + 0.108*X5 + -0.273*X6 + 0.288*X7 + -0.266 ***\n",
      "*** Epoch 5500 cost=172904.46875\n",
      "n_user = 0.000*X1 + 0.000*X2 + 0.188*X3 + 0.139*X4 + 0.109*X5 + -0.277*X6 + 0.283*X7 + -0.262 ***\n",
      "*** Epoch 5550 cost=170511.453125\n",
      "n_user = 0.000*X1 + 0.000*X2 + 0.190*X3 + 0.142*X4 + 0.109*X5 + -0.281*X6 + 0.277*X7 + -0.258 ***\n",
      "*** Epoch 5600 cost=168109.71875\n",
      "n_user = 0.000*X1 + 0.000*X2 + 0.192*X3 + 0.145*X4 + 0.110*X5 + -0.285*X6 + 0.271*X7 + -0.254 ***\n",
      "*** Epoch 5650 cost=165740.625\n",
      "n_user = 0.000*X1 + 0.000*X2 + 0.194*X3 + 0.148*X4 + 0.110*X5 + -0.289*X6 + 0.266*X7 + -0.249 ***\n",
      "*** Epoch 5700 cost=163336.84375\n",
      "n_user = 0.000*X1 + 0.000*X2 + 0.195*X3 + 0.151*X4 + 0.111*X5 + -0.293*X6 + 0.260*X7 + -0.245 ***\n",
      "*** Epoch 5750 cost=160965.9375\n",
      "n_user = 0.000*X1 + 0.000*X2 + 0.197*X3 + 0.154*X4 + 0.111*X5 + -0.298*X6 + 0.254*X7 + -0.240 ***\n",
      "*** Epoch 5800 cost=158638.78125\n",
      "n_user = 0.000*X1 + 0.000*X2 + 0.199*X3 + 0.157*X4 + 0.112*X5 + -0.302*X6 + 0.248*X7 + -0.236 ***\n",
      "*** Epoch 5850 cost=156316.15625\n",
      "n_user = 0.000*X1 + 0.000*X2 + 0.201*X3 + 0.161*X4 + 0.112*X5 + -0.306*X6 + 0.242*X7 + -0.231 ***\n",
      "*** Epoch 5900 cost=154009.46875\n",
      "n_user = 0.000*X1 + 0.000*X2 + 0.202*X3 + 0.164*X4 + 0.112*X5 + -0.310*X6 + 0.236*X7 + -0.226 ***\n",
      "*** Epoch 5950 cost=151744.0625\n",
      "n_user = 0.000*X1 + 0.000*X2 + 0.204*X3 + 0.167*X4 + 0.113*X5 + -0.315*X6 + 0.230*X7 + -0.221 ***\n",
      "*** Epoch 6000 cost=149476.03125\n",
      "n_user = 0.000*X1 + 0.000*X2 + 0.206*X3 + 0.170*X4 + 0.113*X5 + -0.319*X6 + 0.224*X7 + -0.217 ***\n",
      "*** Epoch 6050 cost=147226.25\n",
      "n_user = 0.000*X1 + 0.000*X2 + 0.208*X3 + 0.174*X4 + 0.113*X5 + -0.323*X6 + 0.218*X7 + -0.212 ***\n",
      "*** Epoch 6100 cost=145003.65625\n",
      "n_user = 0.000*X1 + 0.000*X2 + 0.209*X3 + 0.177*X4 + 0.113*X5 + -0.328*X6 + 0.212*X7 + -0.207 ***\n",
      "*** Epoch 6150 cost=142829.4375\n",
      "n_user = 0.000*X1 + 0.000*X2 + 0.211*X3 + 0.180*X4 + 0.114*X5 + -0.332*X6 + 0.205*X7 + -0.202 ***\n",
      "*** Epoch 6200 cost=140689.625\n",
      "n_user = 0.000*X1 + 0.000*X2 + 0.213*X3 + 0.184*X4 + 0.114*X5 + -0.337*X6 + 0.199*X7 + -0.197 ***\n",
      "*** Epoch 6250 cost=138593.8125\n",
      "n_user = 0.000*X1 + 0.000*X2 + 0.215*X3 + 0.187*X4 + 0.114*X5 + -0.341*X6 + 0.193*X7 + -0.192 ***\n",
      "*** Epoch 6300 cost=136498.609375\n",
      "n_user = 0.000*X1 + 0.000*X2 + 0.217*X3 + 0.190*X4 + 0.114*X5 + -0.345*X6 + 0.187*X7 + -0.187 ***\n"
     ]
    },
    {
     "name": "stdout",
     "output_type": "stream",
     "text": [
      "*** Epoch 6350 cost=134401.6875\n",
      "n_user = 0.000*X1 + 0.000*X2 + 0.218*X3 + 0.194*X4 + 0.114*X5 + -0.350*X6 + 0.182*X7 + -0.182 ***\n",
      "*** Epoch 6400 cost=132387.84375\n",
      "n_user = 0.000*X1 + 0.000*X2 + 0.220*X3 + 0.197*X4 + 0.114*X5 + -0.354*X6 + 0.176*X7 + -0.177 ***\n",
      "*** Epoch 6450 cost=130413.8515625\n",
      "n_user = 0.000*X1 + 0.000*X2 + 0.222*X3 + 0.200*X4 + 0.114*X5 + -0.359*X6 + 0.170*X7 + -0.171 ***\n",
      "*** Epoch 6500 cost=128472.109375\n",
      "n_user = 0.000*X1 + 0.000*X2 + 0.224*X3 + 0.204*X4 + 0.114*X5 + -0.363*X6 + 0.164*X7 + -0.166 ***\n",
      "*** Epoch 6550 cost=126542.3984375\n",
      "n_user = 0.000*X1 + 0.000*X2 + 0.226*X3 + 0.207*X4 + 0.114*X5 + -0.367*X6 + 0.158*X7 + -0.161 ***\n",
      "*** Epoch 6600 cost=124673.46875\n",
      "n_user = 0.000*X1 + 0.000*X2 + 0.227*X3 + 0.211*X4 + 0.114*X5 + -0.372*X6 + 0.153*X7 + -0.156 ***\n",
      "*** Epoch 6650 cost=122828.078125\n",
      "n_user = 0.000*X1 + 0.000*X2 + 0.229*X3 + 0.214*X4 + 0.114*X5 + -0.376*X6 + 0.147*X7 + -0.150 ***\n",
      "*** Epoch 6700 cost=121046.1796875\n",
      "n_user = 0.000*X1 + 0.000*X2 + 0.231*X3 + 0.217*X4 + 0.113*X5 + -0.381*X6 + 0.141*X7 + -0.145 ***\n",
      "*** Epoch 6750 cost=119298.8125\n",
      "n_user = 0.000*X1 + 0.000*X2 + 0.233*X3 + 0.221*X4 + 0.113*X5 + -0.385*X6 + 0.136*X7 + -0.139 ***\n",
      "*** Epoch 6800 cost=117566.609375\n",
      "n_user = 0.000*X1 + 0.000*X2 + 0.234*X3 + 0.224*X4 + 0.113*X5 + -0.389*X6 + 0.131*X7 + -0.134 ***\n",
      "*** Epoch 6850 cost=115896.6015625\n",
      "n_user = 0.000*X1 + 0.000*X2 + 0.236*X3 + 0.227*X4 + 0.112*X5 + -0.393*X6 + 0.125*X7 + -0.128 ***\n",
      "*** Epoch 6900 cost=114262.671875\n",
      "n_user = 0.000*X1 + 0.000*X2 + 0.238*X3 + 0.231*X4 + 0.112*X5 + -0.398*X6 + 0.120*X7 + -0.123 ***\n",
      "*** Epoch 6950 cost=112677.109375\n",
      "n_user = 0.000*X1 + 0.000*X2 + 0.239*X3 + 0.234*X4 + 0.112*X5 + -0.402*X6 + 0.115*X7 + -0.117 ***\n",
      "*** Epoch 7000 cost=111110.8203125\n",
      "n_user = 0.000*X1 + 0.000*X2 + 0.241*X3 + 0.237*X4 + 0.111*X5 + -0.406*X6 + 0.110*X7 + -0.112 ***\n",
      "*** Epoch 7050 cost=109598.109375\n",
      "n_user = 0.000*X1 + 0.000*X2 + 0.243*X3 + 0.241*X4 + 0.110*X5 + -0.410*X6 + 0.106*X7 + -0.106 ***\n",
      "*** Epoch 7100 cost=108127.3125\n",
      "n_user = 0.000*X1 + 0.000*X2 + 0.244*X3 + 0.244*X4 + 0.110*X5 + -0.414*X6 + 0.101*X7 + -0.100 ***\n",
      "*** Epoch 7150 cost=106710.6640625\n",
      "n_user = 0.000*X1 + 0.000*X2 + 0.246*X3 + 0.247*X4 + 0.109*X5 + -0.418*X6 + 0.097*X7 + -0.095 ***\n",
      "*** Epoch 7200 cost=105333.0390625\n",
      "n_user = 0.000*X1 + 0.000*X2 + 0.248*X3 + 0.250*X4 + 0.108*X5 + -0.422*X6 + 0.092*X7 + -0.089 ***\n",
      "*** Epoch 7250 cost=103985.84375\n",
      "n_user = 0.000*X1 + 0.000*X2 + 0.249*X3 + 0.253*X4 + 0.108*X5 + -0.426*X6 + 0.088*X7 + -0.083 ***\n",
      "*** Epoch 7300 cost=102680.203125\n",
      "n_user = 0.000*X1 + 0.000*X2 + 0.251*X3 + 0.256*X4 + 0.107*X5 + -0.430*X6 + 0.084*X7 + -0.078 ***\n",
      "*** Epoch 7350 cost=101418.765625\n",
      "n_user = 0.000*X1 + 0.000*X2 + 0.252*X3 + 0.259*X4 + 0.106*X5 + -0.434*X6 + 0.080*X7 + -0.072 ***\n",
      "*** Epoch 7400 cost=100204.2109375\n",
      "n_user = 0.000*X1 + 0.000*X2 + 0.254*X3 + 0.262*X4 + 0.105*X5 + -0.437*X6 + 0.076*X7 + -0.066 ***\n",
      "*** Epoch 7450 cost=99021.265625\n",
      "n_user = 0.000*X1 + 0.000*X2 + 0.255*X3 + 0.265*X4 + 0.104*X5 + -0.441*X6 + 0.073*X7 + -0.060 ***\n",
      "*** Epoch 7500 cost=97865.796875\n",
      "n_user = 0.000*X1 + 0.000*X2 + 0.257*X3 + 0.268*X4 + 0.103*X5 + -0.445*X6 + 0.069*X7 + -0.055 ***\n",
      "*** Epoch 7550 cost=96749.7734375\n",
      "n_user = 0.000*X1 + 0.000*X2 + 0.258*X3 + 0.271*X4 + 0.102*X5 + -0.448*X6 + 0.066*X7 + -0.049 ***\n",
      "*** Epoch 7600 cost=95680.71875\n",
      "n_user = 0.000*X1 + 0.000*X2 + 0.260*X3 + 0.273*X4 + 0.100*X5 + -0.451*X6 + 0.063*X7 + -0.043 ***\n",
      "*** Epoch 7650 cost=94641.359375\n",
      "n_user = 0.000*X1 + 0.000*X2 + 0.261*X3 + 0.276*X4 + 0.099*X5 + -0.455*X6 + 0.060*X7 + -0.037 ***\n",
      "*** Epoch 7700 cost=93636.4375\n",
      "n_user = 0.000*X1 + 0.000*X2 + 0.262*X3 + 0.279*X4 + 0.098*X5 + -0.458*X6 + 0.057*X7 + -0.031 ***\n",
      "*** Epoch 7750 cost=92652.828125\n",
      "n_user = 0.000*X1 + 0.000*X2 + 0.264*X3 + 0.281*X4 + 0.096*X5 + -0.461*X6 + 0.055*X7 + -0.025 ***\n",
      "*** Epoch 7800 cost=91724.171875\n",
      "n_user = 0.000*X1 + 0.000*X2 + 0.265*X3 + 0.284*X4 + 0.095*X5 + -0.464*X6 + 0.053*X7 + -0.020 ***\n",
      "*** Epoch 7850 cost=90809.65625\n",
      "n_user = 0.000*X1 + 0.000*X2 + 0.266*X3 + 0.286*X4 + 0.093*X5 + -0.466*X6 + 0.051*X7 + -0.014 ***\n",
      "*** Epoch 7900 cost=89941.515625\n",
      "n_user = 0.000*X1 + 0.000*X2 + 0.268*X3 + 0.288*X4 + 0.092*X5 + -0.469*X6 + 0.049*X7 + -0.008 ***\n",
      "*** Epoch 7950 cost=89092.453125\n",
      "n_user = 0.000*X1 + 0.000*X2 + 0.269*X3 + 0.290*X4 + 0.090*X5 + -0.472*X6 + 0.047*X7 + -0.002 ***\n",
      "*** Epoch 8000 cost=88262.0\n",
      "n_user = 0.000*X1 + 0.000*X2 + 0.270*X3 + 0.292*X4 + 0.089*X5 + -0.474*X6 + 0.046*X7 + 0.004 ***\n",
      "*** Epoch 8050 cost=87463.0078125\n",
      "n_user = 0.000*X1 + 0.000*X2 + 0.271*X3 + 0.294*X4 + 0.087*X5 + -0.476*X6 + 0.045*X7 + 0.010 ***\n",
      "*** Epoch 8100 cost=86680.4453125\n",
      "n_user = 0.000*X1 + 0.000*X2 + 0.272*X3 + 0.296*X4 + 0.085*X5 + -0.478*X6 + 0.044*X7 + 0.016 ***\n",
      "*** Epoch 8150 cost=85935.8515625\n",
      "n_user = 0.000*X1 + 0.000*X2 + 0.274*X3 + 0.298*X4 + 0.083*X5 + -0.480*X6 + 0.043*X7 + 0.022 ***\n",
      "*** Epoch 8200 cost=85210.6796875\n",
      "n_user = 0.000*X1 + 0.000*X2 + 0.275*X3 + 0.300*X4 + 0.081*X5 + -0.482*X6 + 0.042*X7 + 0.028 ***\n",
      "*** Epoch 8250 cost=84501.0234375\n",
      "n_user = 0.000*X1 + 0.000*X2 + 0.276*X3 + 0.301*X4 + 0.079*X5 + -0.484*X6 + 0.042*X7 + 0.034 ***\n",
      "*** Epoch 8300 cost=83809.046875\n",
      "n_user = 0.000*X1 + 0.000*X2 + 0.277*X3 + 0.302*X4 + 0.077*X5 + -0.485*X6 + 0.042*X7 + 0.040 ***\n",
      "*** Epoch 8350 cost=83124.96875\n",
      "n_user = 0.000*X1 + 0.000*X2 + 0.278*X3 + 0.304*X4 + 0.075*X5 + -0.487*X6 + 0.042*X7 + 0.046 ***\n",
      "*** Epoch 8400 cost=82471.453125\n",
      "n_user = 0.000*X1 + 0.000*X2 + 0.279*X3 + 0.305*X4 + 0.073*X5 + -0.488*X6 + 0.042*X7 + 0.052 ***\n",
      "*** Epoch 8450 cost=81826.703125\n",
      "n_user = 0.000*X1 + 0.000*X2 + 0.280*X3 + 0.306*X4 + 0.070*X5 + -0.489*X6 + 0.043*X7 + 0.058 ***\n",
      "*** Epoch 8500 cost=81205.21875\n",
      "n_user = 0.000*X1 + 0.000*X2 + 0.281*X3 + 0.307*X4 + 0.068*X5 + -0.490*X6 + 0.044*X7 + 0.064 ***\n",
      "*** Epoch 8550 cost=80584.1875\n",
      "n_user = 0.000*X1 + 0.000*X2 + 0.282*X3 + 0.308*X4 + 0.066*X5 + -0.490*X6 + 0.045*X7 + 0.070 ***\n",
      "*** Epoch 8600 cost=79979.859375\n",
      "n_user = 0.000*X1 + 0.000*X2 + 0.283*X3 + 0.309*X4 + 0.063*X5 + -0.491*X6 + 0.046*X7 + 0.076 ***\n",
      "*** Epoch 8650 cost=79373.015625\n",
      "n_user = 0.000*X1 + 0.000*X2 + 0.284*X3 + 0.309*X4 + 0.061*X5 + -0.491*X6 + 0.048*X7 + 0.082 ***\n",
      "*** Epoch 8700 cost=78795.734375\n",
      "n_user = 0.000*X1 + 0.000*X2 + 0.285*X3 + 0.310*X4 + 0.058*X5 + -0.491*X6 + 0.049*X7 + 0.088 ***\n",
      "*** Epoch 8750 cost=78219.5078125\n",
      "n_user = 0.000*X1 + 0.000*X2 + 0.286*X3 + 0.310*X4 + 0.056*X5 + -0.491*X6 + 0.051*X7 + 0.094 ***\n",
      "*** Epoch 8800 cost=77647.3359375\n",
      "n_user = 0.000*X1 + 0.000*X2 + 0.287*X3 + 0.310*X4 + 0.053*X5 + -0.491*X6 + 0.053*X7 + 0.100 ***\n",
      "*** Epoch 8850 cost=77082.59375\n",
      "n_user = 0.000*X1 + 0.000*X2 + 0.287*X3 + 0.310*X4 + 0.051*X5 + -0.491*X6 + 0.056*X7 + 0.106 ***\n",
      "*** Epoch 8900 cost=76518.265625\n",
      "n_user = 0.000*X1 + 0.000*X2 + 0.288*X3 + 0.310*X4 + 0.048*X5 + -0.490*X6 + 0.058*X7 + 0.112 ***\n",
      "*** Epoch 8950 cost=75968.8125\n",
      "n_user = 0.000*X1 + 0.000*X2 + 0.289*X3 + 0.310*X4 + 0.045*X5 + -0.490*X6 + 0.061*X7 + 0.119 ***\n",
      "*** Epoch 9000 cost=75415.859375\n",
      "n_user = 0.000*X1 + 0.000*X2 + 0.290*X3 + 0.310*X4 + 0.042*X5 + -0.489*X6 + 0.064*X7 + 0.125 ***\n",
      "*** Epoch 9050 cost=74861.921875\n",
      "n_user = 0.000*X1 + 0.000*X2 + 0.291*X3 + 0.309*X4 + 0.039*X5 + -0.488*X6 + 0.067*X7 + 0.131 ***\n",
      "*** Epoch 9100 cost=74320.609375\n",
      "n_user = 0.000*X1 + 0.000*X2 + 0.292*X3 + 0.309*X4 + 0.037*X5 + -0.487*X6 + 0.070*X7 + 0.138 ***\n",
      "*** Epoch 9150 cost=73768.5\n",
      "n_user = 0.000*X1 + 0.000*X2 + 0.292*X3 + 0.308*X4 + 0.034*X5 + -0.485*X6 + 0.074*X7 + 0.144 ***\n",
      "*** Epoch 9200 cost=73222.375\n",
      "n_user = 0.000*X1 + 0.000*X2 + 0.293*X3 + 0.307*X4 + 0.031*X5 + -0.484*X6 + 0.077*X7 + 0.151 ***\n",
      "*** Epoch 9250 cost=72683.53125\n",
      "n_user = 0.000*X1 + 0.000*X2 + 0.294*X3 + 0.306*X4 + 0.028*X5 + -0.482*X6 + 0.081*X7 + 0.157 ***\n",
      "*** Epoch 9300 cost=72131.75\n",
      "n_user = 0.000*X1 + 0.000*X2 + 0.295*X3 + 0.305*X4 + 0.025*X5 + -0.480*X6 + 0.085*X7 + 0.164 ***\n",
      "*** Epoch 9350 cost=71580.9609375\n",
      "n_user = 0.000*X1 + 0.000*X2 + 0.295*X3 + 0.304*X4 + 0.022*X5 + -0.478*X6 + 0.090*X7 + 0.170 ***\n",
      "*** Epoch 9400 cost=71028.734375\n",
      "n_user = 0.000*X1 + 0.000*X2 + 0.296*X3 + 0.303*X4 + 0.019*X5 + -0.476*X6 + 0.094*X7 + 0.177 ***\n",
      "*** Epoch 9450 cost=70475.3984375\n",
      "n_user = 0.000*X1 + 0.000*X2 + 0.297*X3 + 0.301*X4 + 0.016*X5 + -0.473*X6 + 0.099*X7 + 0.184 ***\n"
     ]
    },
    {
     "name": "stdout",
     "output_type": "stream",
     "text": [
      "*** Epoch 9500 cost=69927.578125\n",
      "n_user = 0.000*X1 + 0.000*X2 + 0.298*X3 + 0.300*X4 + 0.012*X5 + -0.471*X6 + 0.103*X7 + 0.190 ***\n",
      "*** Epoch 9550 cost=69369.71875\n",
      "n_user = 0.000*X1 + 0.000*X2 + 0.298*X3 + 0.298*X4 + 0.009*X5 + -0.468*X6 + 0.108*X7 + 0.197 ***\n",
      "*** Epoch 9600 cost=68820.375\n",
      "n_user = 0.000*X1 + 0.000*X2 + 0.299*X3 + 0.297*X4 + 0.006*X5 + -0.465*X6 + 0.113*X7 + 0.204 ***\n",
      "*** Epoch 9650 cost=68264.0078125\n",
      "n_user = 0.000*X1 + 0.000*X2 + 0.300*X3 + 0.295*X4 + 0.003*X5 + -0.462*X6 + 0.119*X7 + 0.211 ***\n",
      "*** Epoch 9700 cost=67687.3125\n",
      "n_user = 0.000*X1 + 0.000*X2 + 0.300*X3 + 0.293*X4 + -0.000*X5 + -0.459*X6 + 0.124*X7 + 0.218 ***\n",
      "*** Epoch 9750 cost=67130.484375\n",
      "n_user = 0.000*X1 + 0.000*X2 + 0.301*X3 + 0.291*X4 + -0.004*X5 + -0.456*X6 + 0.130*X7 + 0.225 ***\n",
      "*** Epoch 9800 cost=66573.53125\n",
      "n_user = 0.000*X1 + 0.000*X2 + 0.302*X3 + 0.288*X4 + -0.007*X5 + -0.452*X6 + 0.135*X7 + 0.233 ***\n",
      "*** Epoch 9850 cost=66014.359375\n",
      "n_user = 0.000*X1 + 0.000*X2 + 0.302*X3 + 0.286*X4 + -0.010*X5 + -0.449*X6 + 0.141*X7 + 0.240 ***\n",
      "*** Epoch 9900 cost=65444.04296875\n",
      "n_user = 0.000*X1 + 0.000*X2 + 0.303*X3 + 0.284*X4 + -0.014*X5 + -0.445*X6 + 0.147*X7 + 0.247 ***\n",
      "*** Epoch 9950 cost=64878.296875\n",
      "n_user = 0.000*X1 + 0.000*X2 + 0.304*X3 + 0.281*X4 + -0.017*X5 + -0.441*X6 + 0.153*X7 + 0.255 ***\n",
      "*** Epoch 10000 cost=64301.0078125\n",
      "n_user = 0.000*X1 + 0.000*X2 + 0.304*X3 + 0.279*X4 + -0.021*X5 + -0.437*X6 + 0.159*X7 + 0.263 ***\n",
      "*** Epoch 10050 cost=63730.34375\n",
      "n_user = 0.000*X1 + 0.000*X2 + 0.305*X3 + 0.276*X4 + -0.024*X5 + -0.433*X6 + 0.166*X7 + 0.270 ***\n",
      "*** Epoch 10100 cost=63164.06640625\n",
      "n_user = 0.000*X1 + 0.000*X2 + 0.306*X3 + 0.273*X4 + -0.027*X5 + -0.429*X6 + 0.172*X7 + 0.278 ***\n",
      "*** Epoch 10150 cost=62592.37109375\n",
      "n_user = 0.000*X1 + 0.000*X2 + 0.306*X3 + 0.271*X4 + -0.031*X5 + -0.424*X6 + 0.179*X7 + 0.286 ***\n",
      "*** Epoch 10200 cost=62016.265625\n",
      "n_user = 0.000*X1 + 0.000*X2 + 0.307*X3 + 0.268*X4 + -0.034*X5 + -0.420*X6 + 0.186*X7 + 0.294 ***\n",
      "*** Epoch 10250 cost=61497.640625\n",
      "n_user = 0.000*X1 + 0.000*X2 + 0.307*X3 + 0.265*X4 + -0.038*X5 + -0.415*X6 + 0.193*X7 + 0.302 ***\n",
      "*** Epoch 10300 cost=193005.65625\n",
      "n_user = -0.000*X1 + -0.000*X2 + 0.308*X3 + 0.262*X4 + -0.042*X5 + -0.411*X6 + 0.199*X7 + 0.310 ***\n",
      "*** Epoch 10350 cost=62112.8125\n",
      "n_user = 0.000*X1 + 0.000*X2 + 0.308*X3 + 0.259*X4 + -0.045*X5 + -0.407*X6 + 0.205*X7 + 0.318 ***\n",
      "*** Epoch 10400 cost=59808.3671875\n",
      "n_user = 0.000*X1 + 0.000*X2 + 0.309*X3 + 0.256*X4 + -0.048*X5 + -0.402*X6 + 0.211*X7 + 0.326 ***\n",
      "*** Epoch 10450 cost=59261.73046875\n",
      "n_user = 0.000*X1 + 0.000*X2 + 0.309*X3 + 0.253*X4 + -0.051*X5 + -0.398*X6 + 0.218*X7 + 0.334 ***\n",
      "*** Epoch 10500 cost=58721.1171875\n",
      "n_user = 0.000*X1 + 0.000*X2 + 0.310*X3 + 0.250*X4 + -0.055*X5 + -0.393*X6 + 0.224*X7 + 0.342 ***\n",
      "*** Epoch 10550 cost=1672829.5\n",
      "n_user = -0.000*X1 + -0.000*X2 + 0.310*X3 + 0.247*X4 + -0.058*X5 + -0.389*X6 + 0.230*X7 + 0.350 ***\n",
      "*** Epoch 10600 cost=82329.625\n",
      "n_user = 0.000*X1 + 0.000*X2 + 0.311*X3 + 0.245*X4 + -0.061*X5 + -0.385*X6 + 0.237*X7 + 0.358 ***\n",
      "*** Epoch 10650 cost=57321.3984375\n",
      "n_user = 0.000*X1 + 0.000*X2 + 0.311*X3 + 0.242*X4 + -0.064*X5 + -0.380*X6 + 0.242*X7 + 0.366 ***\n",
      "*** Epoch 10700 cost=56748.58203125\n",
      "n_user = 0.000*X1 + 0.000*X2 + 0.311*X3 + 0.239*X4 + -0.067*X5 + -0.376*X6 + 0.248*X7 + 0.373 ***\n",
      "*** Epoch 10750 cost=56273.6328125\n",
      "n_user = 0.000*X1 + 0.000*X2 + 0.312*X3 + 0.236*X4 + -0.070*X5 + -0.372*X6 + 0.255*X7 + 0.381 ***\n",
      "*** Epoch 10800 cost=57729.91796875\n",
      "n_user = 0.000*X1 + 0.000*X2 + 0.312*X3 + 0.233*X4 + -0.073*X5 + -0.368*X6 + 0.261*X7 + 0.389 ***\n",
      "*** Epoch 10850 cost=954512.375\n",
      "n_user = -0.000*X1 + -0.000*X2 + 0.312*X3 + 0.230*X4 + -0.076*X5 + -0.364*X6 + 0.267*X7 + 0.396 ***\n",
      "*** Epoch 10900 cost=60243.37109375\n",
      "n_user = 0.000*X1 + 0.000*X2 + 0.312*X3 + 0.228*X4 + -0.078*X5 + -0.360*X6 + 0.272*X7 + 0.403 ***\n",
      "*** Epoch 10950 cost=54569.1171875\n",
      "n_user = 0.000*X1 + 0.000*X2 + 0.313*X3 + 0.226*X4 + -0.081*X5 + -0.356*X6 + 0.278*X7 + 0.410 ***\n",
      "*** Epoch 11000 cost=54136.7578125\n",
      "n_user = 0.000*X1 + 0.000*X2 + 0.313*X3 + 0.223*X4 + -0.083*X5 + -0.352*X6 + 0.283*X7 + 0.417 ***\n",
      "*** Epoch 11050 cost=53722.73828125\n",
      "n_user = 0.000*X1 + 0.000*X2 + 0.313*X3 + 0.221*X4 + -0.086*X5 + -0.348*X6 + 0.289*X7 + 0.425 ***\n",
      "*** Epoch 11100 cost=53315.70703125\n",
      "n_user = 0.000*X1 + 0.000*X2 + 0.313*X3 + 0.218*X4 + -0.089*X5 + -0.344*X6 + 0.295*X7 + 0.432 ***\n",
      "*** Epoch 11150 cost=13586495.0\n",
      "n_user = -0.001*X1 + -0.001*X2 + 0.312*X3 + 0.214*X4 + -0.093*X5 + -0.341*X6 + 0.300*X7 + 0.438 ***\n",
      "*** Epoch 11200 cost=177198.265625\n",
      "n_user = 0.000*X1 + -0.000*X2 + 0.313*X3 + 0.213*X4 + -0.094*X5 + -0.336*X6 + 0.306*X7 + 0.445 ***\n",
      "*** Epoch 11250 cost=53603.453125\n",
      "n_user = 0.000*X1 + 0.000*X2 + 0.313*X3 + 0.210*X4 + -0.096*X5 + -0.333*X6 + 0.312*X7 + 0.452 ***\n",
      "*** Epoch 11300 cost=51877.3203125\n",
      "n_user = 0.000*X1 + 0.000*X2 + 0.313*X3 + 0.208*X4 + -0.098*X5 + -0.329*X6 + 0.317*X7 + 0.458 ***\n",
      "*** Epoch 11350 cost=51539.1953125\n",
      "n_user = 0.000*X1 + 0.000*X2 + 0.313*X3 + 0.206*X4 + -0.100*X5 + -0.326*X6 + 0.322*X7 + 0.464 ***\n",
      "*** Epoch 11400 cost=51197.7109375\n",
      "n_user = 0.000*X1 + 0.000*X2 + 0.313*X3 + 0.203*X4 + -0.103*X5 + -0.322*X6 + 0.327*X7 + 0.471 ***\n",
      "*** Epoch 11450 cost=50856.6171875\n",
      "n_user = 0.000*X1 + 0.000*X2 + 0.313*X3 + 0.201*X4 + -0.105*X5 + -0.318*X6 + 0.333*X7 + 0.477 ***\n",
      "*** Epoch 11500 cost=50512.72265625\n",
      "n_user = 0.000*X1 + 0.000*X2 + 0.312*X3 + 0.198*X4 + -0.107*X5 + -0.314*X6 + 0.339*X7 + 0.484 ***\n",
      "*** Epoch 11550 cost=6767951.0\n",
      "n_user = 0.001*X1 + 0.001*X2 + 0.313*X3 + 0.197*X4 + -0.109*X5 + -0.310*X6 + 0.345*X7 + 0.491 ***\n",
      "*** Epoch 11600 cost=53350.1875\n",
      "n_user = 0.000*X1 + 0.000*X2 + 0.312*X3 + 0.194*X4 + -0.112*X5 + -0.308*X6 + 0.349*X7 + 0.496 ***\n",
      "*** Epoch 11650 cost=49780.61328125\n",
      "n_user = 0.000*X1 + 0.000*X2 + 0.312*X3 + 0.192*X4 + -0.113*X5 + -0.304*X6 + 0.354*X7 + 0.502 ***\n",
      "*** Epoch 11700 cost=49333.375\n",
      "n_user = 0.000*X1 + 0.000*X2 + 0.312*X3 + 0.189*X4 + -0.115*X5 + -0.301*X6 + 0.359*X7 + 0.507 ***\n",
      "*** Epoch 11750 cost=49054.7734375\n",
      "n_user = 0.000*X1 + 0.000*X2 + 0.311*X3 + 0.187*X4 + -0.117*X5 + -0.298*X6 + 0.364*X7 + 0.513 ***\n",
      "*** Epoch 11800 cost=48772.65625\n",
      "n_user = 0.000*X1 + 0.000*X2 + 0.311*X3 + 0.185*X4 + -0.119*X5 + -0.294*X6 + 0.369*X7 + 0.519 ***\n",
      "*** Epoch 11850 cost=48489.3203125\n",
      "n_user = 0.000*X1 + 0.000*X2 + 0.311*X3 + 0.182*X4 + -0.122*X5 + -0.291*X6 + 0.374*X7 + 0.525 ***\n",
      "*** Epoch 11900 cost=51324.7578125\n",
      "n_user = 0.000*X1 + 0.000*X2 + 0.311*X3 + 0.180*X4 + -0.124*X5 + -0.287*X6 + 0.379*X7 + 0.531 ***\n",
      "*** Epoch 11950 cost=899755.1875\n",
      "n_user = -0.000*X1 + -0.000*X2 + 0.310*X3 + 0.178*X4 + -0.126*X5 + -0.284*X6 + 0.384*X7 + 0.536 ***\n",
      "*** Epoch 12000 cost=49297.609375\n",
      "n_user = 0.000*X1 + 0.000*X2 + 0.310*X3 + 0.176*X4 + -0.127*X5 + -0.281*X6 + 0.388*X7 + 0.542 ***\n",
      "*** Epoch 12050 cost=47479.6484375\n",
      "n_user = 0.000*X1 + 0.000*X2 + 0.310*X3 + 0.174*X4 + -0.129*X5 + -0.278*X6 + 0.393*X7 + 0.547 ***\n",
      "*** Epoch 12100 cost=47226.30078125\n",
      "n_user = 0.000*X1 + 0.000*X2 + 0.309*X3 + 0.172*X4 + -0.131*X5 + -0.275*X6 + 0.397*X7 + 0.552 ***\n",
      "*** Epoch 12150 cost=46987.35546875\n",
      "n_user = 0.000*X1 + 0.000*X2 + 0.309*X3 + 0.170*X4 + -0.132*X5 + -0.272*X6 + 0.402*X7 + 0.558 ***\n",
      "*** Epoch 12200 cost=46746.53125\n",
      "n_user = 0.000*X1 + 0.000*X2 + 0.309*X3 + 0.168*X4 + -0.134*X5 + -0.269*X6 + 0.407*X7 + 0.563 ***\n",
      "*** Epoch 12250 cost=46505.06640625\n",
      "n_user = 0.000*X1 + 0.000*X2 + 0.308*X3 + 0.165*X4 + -0.136*X5 + -0.265*X6 + 0.412*X7 + 0.569 ***\n",
      "*** Epoch 12300 cost=11144164.0\n",
      "n_user = -0.001*X1 + -0.001*X2 + 0.307*X3 + 0.162*X4 + -0.139*X5 + -0.263*X6 + 0.416*X7 + 0.573 ***\n",
      "*** Epoch 12350 cost=52530.9140625\n",
      "n_user = 0.000*X1 + 0.000*X2 + 0.308*X3 + 0.161*X4 + -0.139*X5 + -0.259*X6 + 0.421*X7 + 0.579 ***\n",
      "*** Epoch 12400 cost=45981.7890625\n",
      "n_user = 0.000*X1 + 0.000*X2 + 0.307*X3 + 0.160*X4 + -0.141*X5 + -0.257*X6 + 0.425*X7 + 0.584 ***\n",
      "*** Epoch 12450 cost=45660.77734375\n",
      "n_user = 0.000*X1 + 0.000*X2 + 0.307*X3 + 0.158*X4 + -0.142*X5 + -0.254*X6 + 0.429*X7 + 0.588 ***\n",
      "*** Epoch 12500 cost=45471.25\n",
      "n_user = 0.000*X1 + 0.000*X2 + 0.306*X3 + 0.156*X4 + -0.144*X5 + -0.251*X6 + 0.433*X7 + 0.593 ***\n",
      "*** Epoch 12550 cost=45272.65234375\n",
      "n_user = 0.000*X1 + 0.000*X2 + 0.306*X3 + 0.154*X4 + -0.146*X5 + -0.248*X6 + 0.438*X7 + 0.598 ***\n"
     ]
    },
    {
     "name": "stdout",
     "output_type": "stream",
     "text": [
      "*** Epoch 12600 cost=45067.01953125\n",
      "n_user = 0.000*X1 + 0.000*X2 + 0.305*X3 + 0.152*X4 + -0.147*X5 + -0.245*X6 + 0.442*X7 + 0.603 ***\n",
      "*** Epoch 12650 cost=44853.69140625\n",
      "n_user = 0.000*X1 + 0.000*X2 + 0.305*X3 + 0.150*X4 + -0.149*X5 + -0.242*X6 + 0.447*X7 + 0.608 ***\n",
      "*** Epoch 12700 cost=760858.5\n",
      "n_user = -0.000*X1 + -0.000*X2 + 0.304*X3 + 0.148*X4 + -0.150*X5 + -0.240*X6 + 0.451*X7 + 0.613 ***\n",
      "*** Epoch 12750 cost=70542.0625\n",
      "n_user = 0.000*X1 + 0.000*X2 + 0.304*X3 + 0.146*X4 + -0.151*X5 + -0.237*X6 + 0.455*X7 + 0.618 ***\n",
      "*** Epoch 12800 cost=44429.40234375\n",
      "n_user = 0.000*X1 + 0.000*X2 + 0.304*X3 + 0.144*X4 + -0.153*X5 + -0.234*X6 + 0.459*X7 + 0.622 ***\n",
      "*** Epoch 12850 cost=44158.1640625\n",
      "n_user = 0.000*X1 + 0.000*X2 + 0.303*X3 + 0.143*X4 + -0.154*X5 + -0.232*X6 + 0.463*X7 + 0.626 ***\n",
      "*** Epoch 12900 cost=43984.58984375\n",
      "n_user = 0.000*X1 + 0.000*X2 + 0.303*X3 + 0.141*X4 + -0.156*X5 + -0.229*X6 + 0.467*X7 + 0.631 ***\n",
      "*** Epoch 12950 cost=43810.04296875\n",
      "n_user = 0.000*X1 + 0.000*X2 + 0.302*X3 + 0.139*X4 + -0.157*X5 + -0.226*X6 + 0.471*X7 + 0.635 ***\n",
      "*** Epoch 13000 cost=43639.109375\n",
      "n_user = 0.000*X1 + 0.000*X2 + 0.302*X3 + 0.137*X4 + -0.158*X5 + -0.224*X6 + 0.475*X7 + 0.640 ***\n",
      "*** Epoch 13050 cost=43793.7734375\n",
      "n_user = 0.000*X1 + 0.000*X2 + 0.301*X3 + 0.135*X4 + -0.160*X5 + -0.221*X6 + 0.479*X7 + 0.645 ***\n",
      "*** Epoch 13100 cost=897149.1875\n",
      "n_user = 0.000*X1 + 0.000*X2 + 0.301*X3 + 0.134*X4 + -0.161*X5 + -0.218*X6 + 0.483*X7 + 0.649 ***\n",
      "*** Epoch 13150 cost=43849.52734375\n",
      "n_user = 0.000*X1 + 0.000*X2 + 0.300*X3 + 0.132*X4 + -0.162*X5 + -0.216*X6 + 0.486*X7 + 0.653 ***\n",
      "*** Epoch 13200 cost=43049.63671875\n",
      "n_user = 0.000*X1 + 0.000*X2 + 0.300*X3 + 0.131*X4 + -0.163*X5 + -0.214*X6 + 0.490*X7 + 0.657 ***\n",
      "*** Epoch 13250 cost=42900.04296875\n",
      "n_user = 0.000*X1 + 0.000*X2 + 0.299*X3 + 0.129*X4 + -0.165*X5 + -0.211*X6 + 0.493*X7 + 0.661 ***\n",
      "*** Epoch 13300 cost=42755.296875\n",
      "n_user = 0.000*X1 + 0.000*X2 + 0.299*X3 + 0.127*X4 + -0.166*X5 + -0.209*X6 + 0.497*X7 + 0.665 ***\n",
      "*** Epoch 13350 cost=42612.29296875\n",
      "n_user = 0.000*X1 + 0.000*X2 + 0.298*X3 + 0.126*X4 + -0.167*X5 + -0.207*X6 + 0.501*X7 + 0.669 ***\n",
      "*** Epoch 13400 cost=42469.76171875\n",
      "n_user = 0.000*X1 + 0.000*X2 + 0.298*X3 + 0.124*X4 + -0.168*X5 + -0.204*X6 + 0.504*X7 + 0.673 ***\n",
      "*** Epoch 13450 cost=42325.21875\n",
      "n_user = 0.000*X1 + 0.000*X2 + 0.297*X3 + 0.122*X4 + -0.169*X5 + -0.202*X6 + 0.508*X7 + 0.678 ***\n",
      "*** Epoch 13500 cost=5690843.0\n",
      "n_user = -0.001*X1 + -0.001*X2 + 0.296*X3 + 0.120*X4 + -0.171*X5 + -0.200*X6 + 0.511*X7 + 0.681 ***\n",
      "*** Epoch 13550 cost=54796.53515625\n",
      "n_user = 0.000*X1 + 0.000*X2 + 0.296*X3 + 0.119*X4 + -0.171*X5 + -0.197*X6 + 0.515*X7 + 0.685 ***\n",
      "*** Epoch 13600 cost=41945.5390625\n",
      "n_user = 0.000*X1 + 0.000*X2 + 0.296*X3 + 0.118*X4 + -0.173*X5 + -0.195*X6 + 0.518*X7 + 0.689 ***\n",
      "*** Epoch 13650 cost=41825.5546875\n",
      "n_user = 0.000*X1 + 0.000*X2 + 0.295*X3 + 0.116*X4 + -0.174*X5 + -0.193*X6 + 0.522*X7 + 0.693 ***\n",
      "*** Epoch 13700 cost=41711.95703125\n",
      "n_user = 0.000*X1 + 0.000*X2 + 0.294*X3 + 0.115*X4 + -0.175*X5 + -0.191*X6 + 0.525*X7 + 0.697 ***\n",
      "*** Epoch 13750 cost=41590.08203125\n",
      "n_user = 0.000*X1 + 0.000*X2 + 0.294*X3 + 0.113*X4 + -0.176*X5 + -0.188*X6 + 0.528*X7 + 0.701 ***\n",
      "*** Epoch 13800 cost=41468.89453125\n",
      "n_user = 0.000*X1 + 0.000*X2 + 0.293*X3 + 0.112*X4 + -0.177*X5 + -0.186*X6 + 0.532*X7 + 0.704 ***\n",
      "*** Epoch 13850 cost=145070.5\n",
      "n_user = 0.000*X1 + 0.000*X2 + 0.293*X3 + 0.110*X4 + -0.178*X5 + -0.184*X6 + 0.536*X7 + 0.709 ***\n",
      "*** Epoch 13900 cost=42307.375\n",
      "n_user = 0.000*X1 + 0.000*X2 + 0.292*X3 + 0.109*X4 + -0.179*X5 + -0.182*X6 + 0.539*X7 + 0.712 ***\n",
      "*** Epoch 13950 cost=41223.890625\n",
      "n_user = 0.000*X1 + 0.000*X2 + 0.292*X3 + 0.108*X4 + -0.180*X5 + -0.180*X6 + 0.542*X7 + 0.715 ***\n",
      "*** Epoch 14000 cost=41031.20703125\n",
      "n_user = 0.000*X1 + 0.000*X2 + 0.291*X3 + 0.106*X4 + -0.181*X5 + -0.178*X6 + 0.545*X7 + 0.719 ***\n",
      "*** Epoch 14050 cost=40926.14453125\n",
      "n_user = 0.000*X1 + 0.000*X2 + 0.291*X3 + 0.105*X4 + -0.181*X5 + -0.176*X6 + 0.548*X7 + 0.722 ***\n",
      "*** Epoch 14100 cost=40826.23828125\n",
      "n_user = 0.000*X1 + 0.000*X2 + 0.290*X3 + 0.103*X4 + -0.182*X5 + -0.174*X6 + 0.551*X7 + 0.726 ***\n",
      "*** Epoch 14150 cost=40723.1171875\n",
      "n_user = 0.000*X1 + 0.000*X2 + 0.289*X3 + 0.102*X4 + -0.183*X5 + -0.172*X6 + 0.554*X7 + 0.729 ***\n",
      "*** Epoch 14200 cost=40619.375\n",
      "n_user = 0.000*X1 + 0.000*X2 + 0.289*X3 + 0.101*X4 + -0.184*X5 + -0.170*X6 + 0.557*X7 + 0.733 ***\n",
      "*** Epoch 14250 cost=38179704.0\n",
      "n_user = -0.002*X1 + -0.002*X2 + 0.286*X3 + 0.097*X4 + -0.187*X5 + -0.169*X6 + 0.559*X7 + 0.735 ***\n",
      "*** Epoch 14300 cost=98801.4453125\n",
      "n_user = 0.000*X1 + 0.000*X2 + 0.288*X3 + 0.098*X4 + -0.186*X5 + -0.166*X6 + 0.563*X7 + 0.740 ***\n",
      "*** Epoch 14350 cost=40882.57421875\n",
      "n_user = 0.000*X1 + 0.000*X2 + 0.287*X3 + 0.097*X4 + -0.187*X5 + -0.164*X6 + 0.566*X7 + 0.743 ***\n",
      "*** Epoch 14400 cost=40260.92578125\n",
      "n_user = 0.000*X1 + 0.000*X2 + 0.287*X3 + 0.096*X4 + -0.188*X5 + -0.162*X6 + 0.569*X7 + 0.746 ***\n",
      "*** Epoch 14450 cost=40171.04296875\n",
      "n_user = 0.000*X1 + 0.000*X2 + 0.286*X3 + 0.094*X4 + -0.188*X5 + -0.160*X6 + 0.572*X7 + 0.749 ***\n",
      "*** Epoch 14500 cost=40082.57421875\n",
      "n_user = 0.000*X1 + 0.000*X2 + 0.285*X3 + 0.093*X4 + -0.189*X5 + -0.158*X6 + 0.575*X7 + 0.753 ***\n",
      "*** Epoch 14550 cost=39993.68359375\n",
      "n_user = 0.000*X1 + 0.000*X2 + 0.285*X3 + 0.092*X4 + -0.190*X5 + -0.156*X6 + 0.578*X7 + 0.756 ***\n",
      "*** Epoch 14600 cost=39905.40625\n",
      "n_user = 0.000*X1 + 0.000*X2 + 0.284*X3 + 0.090*X4 + -0.191*X5 + -0.154*X6 + 0.581*X7 + 0.759 ***\n",
      "*** Epoch 14650 cost=17228306.0\n",
      "n_user = -0.001*X1 + -0.001*X2 + 0.282*X3 + 0.088*X4 + -0.193*X5 + -0.154*X6 + 0.582*X7 + 0.761 ***\n",
      "*** Epoch 14700 cost=43598.046875\n",
      "n_user = 0.000*X1 + 0.000*X2 + 0.283*X3 + 0.088*X4 + -0.192*X5 + -0.151*X6 + 0.586*X7 + 0.765 ***\n",
      "*** Epoch 14750 cost=39800.98046875\n",
      "n_user = 0.000*X1 + 0.000*X2 + 0.283*X3 + 0.087*X4 + -0.193*X5 + -0.149*X6 + 0.589*X7 + 0.768 ***\n",
      "*** Epoch 14800 cost=39595.71484375\n",
      "n_user = 0.000*X1 + 0.000*X2 + 0.282*X3 + 0.086*X4 + -0.194*X5 + -0.148*X6 + 0.591*X7 + 0.771 ***\n",
      "*** Epoch 14850 cost=39525.31640625\n",
      "n_user = 0.000*X1 + 0.000*X2 + 0.281*X3 + 0.085*X4 + -0.194*X5 + -0.146*X6 + 0.594*X7 + 0.774 ***\n",
      "*** Epoch 14900 cost=39447.6171875\n",
      "n_user = 0.000*X1 + 0.000*X2 + 0.281*X3 + 0.083*X4 + -0.195*X5 + -0.144*X6 + 0.596*X7 + 0.777 ***\n",
      "*** Epoch 14950 cost=39374.5703125\n",
      "n_user = 0.000*X1 + 0.000*X2 + 0.280*X3 + 0.082*X4 + -0.196*X5 + -0.142*X6 + 0.599*X7 + 0.780 ***\n",
      "*** Epoch 15000 cost=39297.171875\n",
      "n_user = 0.000*X1 + 0.000*X2 + 0.280*X3 + 0.081*X4 + -0.197*X5 + -0.141*X6 + 0.602*X7 + 0.783 ***\n"
     ]
    }
   ],
   "source": [
    "costs = list()\n",
    "weights = list()\n",
    "biases = list()\n",
    "print(\"### Training step ###\")\n",
    "for epoch in range(initial_step, training_epochs):\n",
    "    session.run(train_op, feed_dict={X: x_train, Y: y_train})\n",
    "    #Display logs per epoch step\n",
    "    if (epoch+1) % display_step == 0:\n",
    "        training_cost, weight, bias = session.run([loss, w, b], feed_dict={X: x_train, Y: y_train})\n",
    "        print(\"*** Epoch\", '%04d' % (epoch+1), \"cost={}\\nn_user = {:.3f}*X1 + {:.3f}*X2 + {:.3f}*X3 + {:.3f}*X4 + {:.3f}*X5 + {:.3f}*X6 + {:.3f}*X7 + {:.3f} ***\".format(training_cost, weight[0][0], weight[1][0], weight[2][0], weight[3][0], weight[4][0], weight[5][0], weight[6][0], bias[0]))\n",
    "        costs.append(training_cost)\n",
    "        weights.append(weight[:,0])\n",
    "        biases.append(bias[0])\n",
    "        saver.save(session, 'checkpoints/linreg_osm/osm-linreg', epoch)"
   ]
  },
  {
   "cell_type": "markdown",
   "metadata": {},
   "source": [
    "The results are stored into a pandas dataframe and saved onto the file system."
   ]
  },
  {
   "cell_type": "code",
   "execution_count": 18,
   "metadata": {
    "collapsed": true
   },
   "outputs": [],
   "source": [
    "param_history = pd.DataFrame(weights, columns=[\"lifespan\", \"n_inscription_days\", \"n_activity_days\", \"version\", \"n_chgset\", \"n_autocorr\", \"n_corr\"])\n",
    "param_history[\"bias\"] = biases\n",
    "param_history[\"loss\"] = costs\n",
    "\n",
    "if initial_step == 0:\n",
    "    param_history.to_csv(\"linreg_osm.csv\", index=False)\n",
    "else:\n",
    "    param_history.to_csv(\"linreg_osm.csv\", index=False, mode='a', header=False)"
   ]
  },
  {
   "cell_type": "markdown",
   "metadata": {},
   "source": [
    "Then the data into this `csv` file is recovered. We do not consider the current `param_history` value, as it may represent only the last training steps, if the train just had been restored from a checkpoint. We use the results for plotting purpose."
   ]
  },
  {
   "cell_type": "code",
   "execution_count": 19,
   "metadata": {},
   "outputs": [
    {
     "name": "stderr",
     "output_type": "stream",
     "text": [
      "/usr/local/lib/python3.5/dist-packages/matplotlib/figure.py:403: UserWarning: matplotlib is currently using a non-GUI backend, so cannot show the figure\n",
      "  \"matplotlib is currently using a non-GUI backend, \"\n"
     ]
    },
    {
     "data": {
      "image/png": "[encoded data removed]",
      "text/plain": [
       "<matplotlib.figure.Figure at 0x7f999297ee48>"
      ]
     },
     "metadata": {},
     "output_type": "display_data"
    }
   ],
   "source": [
    "param_history = pd.read_csv(\"linreg_osm.csv\", index_col=False)\n",
    "\n",
    "#Graphic display\n",
    "f, ax = plt.subplots(3, 3, figsize=(12,6))\n",
    "for i in range(param_history.shape[1]):\n",
    "    ax[i % 3][int(i / 3)].plot(param_history.iloc[:,i])\n",
    "    ax[i % 3][int(i / 3)].set_title(param_history.columns[i])\n",
    "f.tight_layout()\n",
    "f.show()"
   ]
  },
  {
   "cell_type": "markdown",
   "metadata": {},
   "source": [
    "Then the model is run with test data (this dataset was not used for model training). The goal is to evaluate the correspondance between true value of `y` and the model prediction."
   ]
  },
  {
   "cell_type": "code",
   "execution_count": 20,
   "metadata": {},
   "outputs": [
    {
     "name": "stdout",
     "output_type": "stream",
     "text": [
      "### Test step ###\n",
      "Test cost = 3010.407470703125, i.e. +/- 0.104 contributor(s) per OSM elements on average\n"
     ]
    }
   ],
   "source": [
    "print(\"### Test step ###\")\n",
    "cost, y_pred = session.run([loss, predictions], feed_dict={X: x_test, Y: y_test})\n",
    "print(\"Test cost = {}, i.e. +/- {:.3f} contributor(s) per OSM elements on average\".format(cost, math.sqrt(cost/len(y_test))))"
   ]
  },
  {
   "cell_type": "markdown",
   "metadata": {},
   "source": [
    "A last plot is produced starting from the test step: it shows how good the predictions are."
   ]
  },
  {
   "cell_type": "code",
   "execution_count": 21,
   "metadata": {},
   "outputs": [
    {
     "data": {
      "image/png": "[encoded data removed]",
      "text/plain": [
       "<matplotlib.figure.Figure at 0x7f997dbfdbe0>"
      ]
     },
     "metadata": {},
     "output_type": "display_data"
    }
   ],
   "source": [
    "plt.plot(y_test, y_pred, 'go')\n",
    "output_min, output_max = int(min(y_pred)[0]), int(max(y_pred)[0])\n",
    "plt.plot(range(output_min, output_max+2), range(output_min, output_max+2))\n",
    "plt.xlabel(\"True values of y\")\n",
    "plt.ylabel(\"Model predictions\")\n",
    "plt.xlim(min(y_test)[0], max(y_test)[0]+2)\n",
    "plt.ylim(output_min, output_max+2)\n",
    "plt.tight_layout()\n",
    "plt.show()"
   ]
  },
  {
   "cell_type": "markdown",
   "metadata": {},
   "source": [
    "Last the tensorflow session is closed."
   ]
  },
  {
   "cell_type": "code",
   "execution_count": 22,
   "metadata": {
    "collapsed": true
   },
   "outputs": [],
   "source": [
    "session.close()"
   ]
  }
 ],
 "metadata": {
  "kernelspec": {
   "display_name": "Python 3",
   "language": "python",
   "name": "python3"
  },
  "language_info": {
   "codemirror_mode": {
    "name": "ipython",
    "version": 3
   },
   "file_extension": ".py",
   "mimetype": "text/x-python",
   "name": "python",
   "nbconvert_exporter": "python",
   "pygments_lexer": "ipython3",
   "version": "3.5.2"
  }
 },
 "nbformat": 4,
 "nbformat_minor": 2
}

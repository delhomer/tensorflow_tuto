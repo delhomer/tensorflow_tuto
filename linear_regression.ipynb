{
 "cells": [
  {
   "cell_type": "markdown",
   "metadata": {},
   "source": [
    "# Linear Regression with Tensorflow"
   ]
  },
  {
   "cell_type": "markdown",
   "metadata": {},
   "source": [
    "This notebook will show how to make a linear regression with the help of the `Tensorflow` library. As an example, a set of OpenStreetMap elements gathered around Bordeaux will be used. The goal of the notebook is to predict the number of contributors for each element, starting from a set of other element characteristics."
   ]
  },
  {
   "cell_type": "markdown",
   "metadata": {},
   "source": [
    "## Step 0: module imports"
   ]
  },
  {
   "cell_type": "markdown",
   "metadata": {},
   "source": [
    "`matplotlib` will be used to plot regression results, `os` is necessary for relative path handling, then `pandas` is used to handle the input dataframe, and of course, `tensorflow` will be needed to do the regression."
   ]
  },
  {
   "cell_type": "code",
   "execution_count": 1,
   "metadata": {
    "collapsed": true
   },
   "outputs": [],
   "source": [
    "%matplotlib inline"
   ]
  },
  {
   "cell_type": "code",
   "execution_count": 2,
   "metadata": {
    "collapsed": true
   },
   "outputs": [],
   "source": [
    "import math\n",
    "import matplotlib.pyplot as plt\n",
    "import os\n",
    "import pandas as pd\n",
    "import tensorflow as tf"
   ]
  },
  {
   "cell_type": "markdown",
   "metadata": {},
   "source": [
    "## Step 1: data recovering and preparation"
   ]
  },
  {
   "cell_type": "markdown",
   "metadata": {},
   "source": [
    "The used data describes a set of OSM elements, we admit it is available on the computer."
   ]
  },
  {
   "cell_type": "code",
   "execution_count": 3,
   "metadata": {},
   "outputs": [
    {
     "name": "stderr",
     "output_type": "stream",
     "text": [
      "/usr/local/lib/python3.5/dist-packages/numpy/lib/arraysetops.py:463: FutureWarning: elementwise comparison failed; returning scalar instead, but in the future will perform elementwise comparison\n",
      "  mask |= (ar1 == a)\n"
     ]
    },
    {
     "data": {
      "text/plain": [
       "(2760999, 17)"
      ]
     },
     "execution_count": 3,
     "metadata": {},
     "output_type": "execute_result"
    }
   ],
   "source": [
    "data = pd.read_csv(\"/home/rde/data/osm-history/output-extracts/bordeaux-metropole/element-metadata.csv\", index_col=0)\n",
    "data.shape"
   ]
  },
  {
   "cell_type": "markdown",
   "metadata": {},
   "source": [
    "We have 2760999 individuals in this table, described by 17 different features. One can provide a short extract of this dataset:"
   ]
  },
  {
   "cell_type": "code",
   "execution_count": 4,
   "metadata": {},
   "outputs": [
    {
     "data": {
      "text/html": [
       "<div>\n",
       "<style>\n",
       "    .dataframe thead tr:only-child th {\n",
       "        text-align: right;\n",
       "    }\n",
       "\n",
       "    .dataframe thead th {\n",
       "        text-align: left;\n",
       "    }\n",
       "\n",
       "    .dataframe tbody tr th {\n",
       "        vertical-align: top;\n",
       "    }\n",
       "</style>\n",
       "<table border=\"1\" class=\"dataframe\">\n",
       "  <thead>\n",
       "    <tr style=\"text-align: right;\">\n",
       "      <th></th>\n",
       "      <th>531578</th>\n",
       "      <th>416531</th>\n",
       "      <th>73182</th>\n",
       "      <th>1844401</th>\n",
       "      <th>2721401</th>\n",
       "      <th>1312819</th>\n",
       "    </tr>\n",
       "  </thead>\n",
       "  <tbody>\n",
       "    <tr>\n",
       "      <th>elem</th>\n",
       "      <td>node</td>\n",
       "      <td>node</td>\n",
       "      <td>node</td>\n",
       "      <td>node</td>\n",
       "      <td>node</td>\n",
       "      <td>node</td>\n",
       "    </tr>\n",
       "    <tr>\n",
       "      <th>id</th>\n",
       "      <td>1313882559</td>\n",
       "      <td>1257306248</td>\n",
       "      <td>289081944</td>\n",
       "      <td>1841839200</td>\n",
       "      <td>4171710377</td>\n",
       "      <td>1684313481</td>\n",
       "    </tr>\n",
       "    <tr>\n",
       "      <th>first_at</th>\n",
       "      <td>2011-06-06 00:00:00</td>\n",
       "      <td>2011-04-23 00:00:00</td>\n",
       "      <td>2008-08-18 00:00:00</td>\n",
       "      <td>2012-07-28 00:00:00</td>\n",
       "      <td>2016-05-07 00:00:00</td>\n",
       "      <td>2012-03-21 00:00:00</td>\n",
       "    </tr>\n",
       "    <tr>\n",
       "      <th>last_at</th>\n",
       "      <td>2011-06-06 00:00:00</td>\n",
       "      <td>2011-04-23 00:00:00</td>\n",
       "      <td>2013-04-27 00:00:00</td>\n",
       "      <td>2012-07-28 00:00:00</td>\n",
       "      <td>2016-05-07 00:00:00</td>\n",
       "      <td>2012-03-21 00:00:00</td>\n",
       "    </tr>\n",
       "    <tr>\n",
       "      <th>lifespan</th>\n",
       "      <td>0</td>\n",
       "      <td>0</td>\n",
       "      <td>1713</td>\n",
       "      <td>0</td>\n",
       "      <td>0</td>\n",
       "      <td>0</td>\n",
       "    </tr>\n",
       "    <tr>\n",
       "      <th>n_inscription_days</th>\n",
       "      <td>2085</td>\n",
       "      <td>2129</td>\n",
       "      <td>3107</td>\n",
       "      <td>1667</td>\n",
       "      <td>288</td>\n",
       "      <td>1796</td>\n",
       "    </tr>\n",
       "    <tr>\n",
       "      <th>n_activity_days</th>\n",
       "      <td>1</td>\n",
       "      <td>1</td>\n",
       "      <td>2</td>\n",
       "      <td>1</td>\n",
       "      <td>1</td>\n",
       "      <td>1</td>\n",
       "    </tr>\n",
       "    <tr>\n",
       "      <th>version</th>\n",
       "      <td>1</td>\n",
       "      <td>1</td>\n",
       "      <td>2</td>\n",
       "      <td>1</td>\n",
       "      <td>1</td>\n",
       "      <td>1</td>\n",
       "    </tr>\n",
       "    <tr>\n",
       "      <th>n_chgset</th>\n",
       "      <td>1</td>\n",
       "      <td>1</td>\n",
       "      <td>2</td>\n",
       "      <td>1</td>\n",
       "      <td>1</td>\n",
       "      <td>1</td>\n",
       "    </tr>\n",
       "    <tr>\n",
       "      <th>n_user</th>\n",
       "      <td>1</td>\n",
       "      <td>1</td>\n",
       "      <td>2</td>\n",
       "      <td>1</td>\n",
       "      <td>1</td>\n",
       "      <td>1</td>\n",
       "    </tr>\n",
       "    <tr>\n",
       "      <th>n_autocorr</th>\n",
       "      <td>0</td>\n",
       "      <td>0</td>\n",
       "      <td>0</td>\n",
       "      <td>0</td>\n",
       "      <td>0</td>\n",
       "      <td>0</td>\n",
       "    </tr>\n",
       "    <tr>\n",
       "      <th>n_corr</th>\n",
       "      <td>0</td>\n",
       "      <td>0</td>\n",
       "      <td>1</td>\n",
       "      <td>0</td>\n",
       "      <td>0</td>\n",
       "      <td>0</td>\n",
       "    </tr>\n",
       "    <tr>\n",
       "      <th>visible</th>\n",
       "      <td>True</td>\n",
       "      <td>True</td>\n",
       "      <td>True</td>\n",
       "      <td>True</td>\n",
       "      <td>True</td>\n",
       "      <td>True</td>\n",
       "    </tr>\n",
       "    <tr>\n",
       "      <th>first_uid</th>\n",
       "      <td>76321</td>\n",
       "      <td>354363</td>\n",
       "      <td>54026</td>\n",
       "      <td>152665</td>\n",
       "      <td>1952327</td>\n",
       "      <td>219843</td>\n",
       "    </tr>\n",
       "    <tr>\n",
       "      <th>last_uid</th>\n",
       "      <td>76321</td>\n",
       "      <td>354363</td>\n",
       "      <td>225695</td>\n",
       "      <td>152665</td>\n",
       "      <td>1952327</td>\n",
       "      <td>219843</td>\n",
       "    </tr>\n",
       "    <tr>\n",
       "      <th>first_ug</th>\n",
       "      <td>3</td>\n",
       "      <td>3</td>\n",
       "      <td>3</td>\n",
       "      <td>3</td>\n",
       "      <td>3</td>\n",
       "      <td>3</td>\n",
       "    </tr>\n",
       "    <tr>\n",
       "      <th>last_ug</th>\n",
       "      <td>3</td>\n",
       "      <td>3</td>\n",
       "      <td>3</td>\n",
       "      <td>3</td>\n",
       "      <td>3</td>\n",
       "      <td>3</td>\n",
       "    </tr>\n",
       "  </tbody>\n",
       "</table>\n",
       "</div>"
      ],
      "text/plain": [
       "                                531578               416531   \\\n",
       "elem                               node                 node   \n",
       "id                           1313882559           1257306248   \n",
       "first_at            2011-06-06 00:00:00  2011-04-23 00:00:00   \n",
       "last_at             2011-06-06 00:00:00  2011-04-23 00:00:00   \n",
       "lifespan                              0                    0   \n",
       "n_inscription_days                 2085                 2129   \n",
       "n_activity_days                       1                    1   \n",
       "version                               1                    1   \n",
       "n_chgset                              1                    1   \n",
       "n_user                                1                    1   \n",
       "n_autocorr                            0                    0   \n",
       "n_corr                                0                    0   \n",
       "visible                            True                 True   \n",
       "first_uid                         76321               354363   \n",
       "last_uid                          76321               354363   \n",
       "first_ug                              3                    3   \n",
       "last_ug                               3                    3   \n",
       "\n",
       "                                73182                1844401  \\\n",
       "elem                               node                 node   \n",
       "id                            289081944           1841839200   \n",
       "first_at            2008-08-18 00:00:00  2012-07-28 00:00:00   \n",
       "last_at             2013-04-27 00:00:00  2012-07-28 00:00:00   \n",
       "lifespan                           1713                    0   \n",
       "n_inscription_days                 3107                 1667   \n",
       "n_activity_days                       2                    1   \n",
       "version                               2                    1   \n",
       "n_chgset                              2                    1   \n",
       "n_user                                2                    1   \n",
       "n_autocorr                            0                    0   \n",
       "n_corr                                1                    0   \n",
       "visible                            True                 True   \n",
       "first_uid                         54026               152665   \n",
       "last_uid                         225695               152665   \n",
       "first_ug                              3                    3   \n",
       "last_ug                               3                    3   \n",
       "\n",
       "                                2721401              1312819  \n",
       "elem                               node                 node  \n",
       "id                           4171710377           1684313481  \n",
       "first_at            2016-05-07 00:00:00  2012-03-21 00:00:00  \n",
       "last_at             2016-05-07 00:00:00  2012-03-21 00:00:00  \n",
       "lifespan                              0                    0  \n",
       "n_inscription_days                  288                 1796  \n",
       "n_activity_days                       1                    1  \n",
       "version                               1                    1  \n",
       "n_chgset                              1                    1  \n",
       "n_user                                1                    1  \n",
       "n_autocorr                            0                    0  \n",
       "n_corr                                0                    0  \n",
       "visible                            True                 True  \n",
       "first_uid                       1952327               219843  \n",
       "last_uid                        1952327               219843  \n",
       "first_ug                              3                    3  \n",
       "last_ug                               3                    3  "
      ]
     },
     "execution_count": 4,
     "metadata": {},
     "output_type": "execute_result"
    }
   ],
   "source": [
    "data.sample(6).T"
   ]
  },
  {
   "cell_type": "markdown",
   "metadata": {},
   "source": [
    "In this study, we will consider the number of contributors as the output to predict. We select a small set of features as predictors: the number of days between first and last modifications, the number of days since first modification, the number of days during which modifications arised, the last version, the number of change sets and the numbers of autocorrections and corrections."
   ]
  },
  {
   "cell_type": "code",
   "execution_count": 5,
   "metadata": {
    "collapsed": true
   },
   "outputs": [],
   "source": [
    "data_x = data[[\"lifespan\", \"n_inscription_days\", \"n_activity_days\", \"version\", \"n_chgset\", \"n_autocorr\", \"n_corr\"]].values\n",
    "data_y = data[[\"n_user\"]].values"
   ]
  },
  {
   "cell_type": "code",
   "execution_count": 6,
   "metadata": {},
   "outputs": [
    {
     "name": "stdout",
     "output_type": "stream",
     "text": [
      "(2760999, 7)\n",
      "(2760999, 1)\n"
     ]
    }
   ],
   "source": [
    "print(data_x.shape)\n",
    "print(data_y.shape)"
   ]
  },
  {
   "cell_type": "markdown",
   "metadata": {},
   "source": [
    "As a good practice, we can use the dedicated `sklearn` function to split the dataset into **train** and **test** data."
   ]
  },
  {
   "cell_type": "code",
   "execution_count": 7,
   "metadata": {
    "collapsed": true
   },
   "outputs": [],
   "source": [
    "from sklearn.model_selection import train_test_split\n",
    "x_train, x_test, y_train, y_test = train_test_split(data_x, data_y, test_size=0.1)"
   ]
  },
  {
   "cell_type": "code",
   "execution_count": 8,
   "metadata": {},
   "outputs": [
    {
     "name": "stdout",
     "output_type": "stream",
     "text": [
      "(2484899, 7)\n",
      "(276100, 7)\n",
      "(2484899, 1)\n",
      "(276100, 1)\n"
     ]
    }
   ],
   "source": [
    "print(x_train.shape)\n",
    "print(x_test.shape)\n",
    "print(y_train.shape)\n",
    "print(y_test.shape)"
   ]
  },
  {
   "cell_type": "markdown",
   "metadata": {},
   "source": [
    "## Step 2: Parameter settings"
   ]
  },
  {
   "cell_type": "code",
   "execution_count": 24,
   "metadata": {
    "collapsed": true
   },
   "outputs": [],
   "source": [
    "# Parameters\n",
    "learning_rate = 0.01\n",
    "training_epochs = 15000\n",
    "display_step = 50"
   ]
  },
  {
   "cell_type": "markdown",
   "metadata": {},
   "source": [
    "## Step 3: Prepare the checkpoint creation"
   ]
  },
  {
   "cell_type": "code",
   "execution_count": 10,
   "metadata": {
    "collapsed": true
   },
   "outputs": [],
   "source": [
    "def make_dir(path):\n",
    "    \"\"\" Create a directory if there isn't one already. \"\"\"\n",
    "    try:\n",
    "        os.mkdir(path)\n",
    "    except OSError:\n",
    "        pass\n",
    "make_dir('checkpoints')\n",
    "make_dir('checkpoints/linreg_osm')\n",
    "\n",
    "global_step = tf.Variable(0, dtype=tf.int32, trainable=False, name='global_step')\n"
   ]
  },
  {
   "cell_type": "markdown",
   "metadata": {},
   "source": [
    "## Step 4: Tensorflow model design"
   ]
  },
  {
   "cell_type": "markdown",
   "metadata": {},
   "source": [
    "We need to tensors, *i.e.* one for inputs and one for outputs."
   ]
  },
  {
   "cell_type": "code",
   "execution_count": 11,
   "metadata": {
    "collapsed": true
   },
   "outputs": [],
   "source": [
    "with tf.name_scope(\"data\"):\n",
    "    X = tf.placeholder(tf.float32, name=\"X\")\n",
    "    Y = tf.placeholder(tf.float32, name=\"Y\")"
   ]
  },
  {
   "cell_type": "markdown",
   "metadata": {},
   "source": [
    "The linear regression is defined through weights and biases, that are set as tensorflow variables, and injected into the output variable `predictions`. A hidden layer is added to"
   ]
  },
  {
   "cell_type": "code",
   "execution_count": 12,
   "metadata": {
    "collapsed": true
   },
   "outputs": [],
   "source": [
    "with tf.name_scope(\"linear_reg\"):\n",
    "    w = tf.get_variable('weights', [data_x.shape[1], 1], initializer=tf.truncated_normal_initializer())\n",
    "    b = tf.get_variable('biases', [1], initializer=tf.constant_initializer(0.0))\n",
    "    predictions = tf.add(tf.matmul(X, w), b)"
   ]
  },
  {
   "cell_type": "markdown",
   "metadata": {},
   "source": [
    "The cost function is the sum of squares of differences between predictions and true outputs. A regularization term is added to this value."
   ]
  },
  {
   "cell_type": "code",
   "execution_count": 13,
   "metadata": {
    "collapsed": true
   },
   "outputs": [],
   "source": [
    "with tf.name_scope('loss'):\n",
    "    # loss function + regularization value\n",
    "    loss = tf.reduce_sum(tf.square(predictions - Y)) + 0.01 * tf.nn.l2_loss(w)"
   ]
  },
  {
   "cell_type": "markdown",
   "metadata": {},
   "source": [
    "We use Adam optimizer to update the model variable."
   ]
  },
  {
   "cell_type": "code",
   "execution_count": 14,
   "metadata": {
    "collapsed": true
   },
   "outputs": [],
   "source": [
    "with tf.name_scope('train'):\n",
    "    train_op = tf.train.AdamOptimizer(learning_rate).minimize(loss, global_step=global_step)"
   ]
  },
  {
   "cell_type": "markdown",
   "metadata": {},
   "source": [
    "## Step 5: Variable initialization"
   ]
  },
  {
   "cell_type": "code",
   "execution_count": 15,
   "metadata": {
    "collapsed": true
   },
   "outputs": [],
   "source": [
    "init = tf.global_variables_initializer()"
   ]
  },
  {
   "cell_type": "markdown",
   "metadata": {},
   "source": [
    "## Final step: running the model"
   ]
  },
  {
   "cell_type": "markdown",
   "metadata": {},
   "source": [
    "First we have to open a new session, initialize the variable, and prepare the graph and checkpoint utilities:"
   ]
  },
  {
   "cell_type": "code",
   "execution_count": 25,
   "metadata": {},
   "outputs": [
    {
     "name": "stdout",
     "output_type": "stream",
     "text": [
      "INFO:tensorflow:Restoring parameters from checkpoints/linreg_osm/osm-linreg-9999\n"
     ]
    }
   ],
   "source": [
    "session = tf.Session()\n",
    "session.run(init)\n",
    "\n",
    "saver = tf.train.Saver()\n",
    "writer = tf.summary.FileWriter('./graphs/linreg', session.graph)\n",
    "##### You have to create folders to store checkpoints\n",
    "ckpt = tf.train.get_checkpoint_state(os.path.dirname('checkpoints/linreg_osm/checkpoint'))\n",
    "# if that checkpoint exists, restore from checkpoint\n",
    "if ckpt and ckpt.model_checkpoint_path:\n",
    "    saver.restore(session, ckpt.model_checkpoint_path)\n",
    "\n",
    "initial_step = global_step.eval(session=session)"
   ]
  },
  {
   "cell_type": "markdown",
   "metadata": {},
   "source": [
    "The model is ready to be trained. We proceed to as many training steps as indicated by the previous parametrization."
   ]
  },
  {
   "cell_type": "code",
   "execution_count": null,
   "metadata": {},
   "outputs": [
    {
     "name": "stdout",
     "output_type": "stream",
     "text": [
      "### Training step ###\n",
      "*** Epoch 10050 cost=125139.7421875\n",
      "n_user = 0.000*X1 + 0.000*X2 + -0.600*X3 + 0.274*X4 + 0.560*X5 + -0.480*X6 + 0.348*X7 + 0.581 ***\n",
      "*** Epoch 10100 cost=123540.046875\n",
      "n_user = 0.000*X1 + 0.000*X2 + -0.593*X3 + 0.271*X4 + 0.553*X5 + -0.475*X6 + 0.353*X7 + 0.584 ***\n",
      "*** Epoch 10150 cost=121943.0859375\n",
      "n_user = 0.000*X1 + 0.000*X2 + -0.586*X3 + 0.267*X4 + 0.546*X5 + -0.469*X6 + 0.359*X7 + 0.588 ***\n",
      "*** Epoch 10200 cost=120326.6484375\n",
      "n_user = 0.000*X1 + 0.000*X2 + -0.579*X3 + 0.264*X4 + 0.538*X5 + -0.464*X6 + 0.364*X7 + 0.592 ***\n",
      "*** Epoch 10250 cost=729973.125\n",
      "n_user = -0.001*X1 + 0.000*X2 + -0.571*X3 + 0.260*X4 + 0.531*X5 + -0.459*X6 + 0.368*X7 + 0.595 ***\n",
      "*** Epoch 10300 cost=130294.390625\n",
      "n_user = 0.000*X1 + 0.000*X2 + -0.563*X3 + 0.257*X4 + 0.523*X5 + -0.453*X6 + 0.374*X7 + 0.599 ***\n",
      "*** Epoch 10350 cost=115480.09375\n",
      "n_user = 0.000*X1 + 0.000*X2 + -0.556*X3 + 0.254*X4 + 0.516*X5 + -0.447*X6 + 0.379*X7 + 0.603 ***\n",
      "*** Epoch 10400 cost=113832.0078125\n",
      "n_user = 0.000*X1 + 0.000*X2 + -0.548*X3 + 0.250*X4 + 0.508*X5 + -0.442*X6 + 0.384*X7 + 0.607 ***\n",
      "*** Epoch 10450 cost=112198.109375\n",
      "n_user = 0.000*X1 + 0.000*X2 + -0.540*X3 + 0.247*X4 + 0.501*X5 + -0.437*X6 + 0.389*X7 + 0.612 ***\n",
      "*** Epoch 10500 cost=110549.625\n",
      "n_user = 0.000*X1 + 0.000*X2 + -0.532*X3 + 0.244*X4 + 0.493*X5 + -0.431*X6 + 0.394*X7 + 0.616 ***\n",
      "*** Epoch 10550 cost=108908.375\n",
      "n_user = 0.000*X1 + 0.000*X2 + -0.524*X3 + 0.240*X4 + 0.485*X5 + -0.426*X6 + 0.399*X7 + 0.620 ***\n",
      "*** Epoch 10600 cost=107261.3984375\n",
      "n_user = 0.000*X1 + 0.000*X2 + -0.515*X3 + 0.237*X4 + 0.477*X5 + -0.421*X6 + 0.404*X7 + 0.625 ***\n",
      "*** Epoch 10650 cost=146643.6875\n",
      "n_user = 0.001*X1 + 0.000*X2 + -0.507*X3 + 0.234*X4 + 0.468*X5 + -0.415*X6 + 0.409*X7 + 0.629 ***\n",
      "*** Epoch 10700 cost=103952.9765625\n",
      "n_user = 0.000*X1 + 0.000*X2 + -0.498*X3 + 0.230*X4 + 0.460*X5 + -0.410*X6 + 0.414*X7 + 0.634 ***\n",
      "*** Epoch 10750 cost=102307.3515625\n",
      "n_user = 0.000*X1 + 0.000*X2 + -0.489*X3 + 0.227*X4 + 0.452*X5 + -0.405*X6 + 0.419*X7 + 0.638 ***\n",
      "*** Epoch 10800 cost=100659.921875\n",
      "n_user = 0.000*X1 + 0.000*X2 + -0.481*X3 + 0.224*X4 + 0.443*X5 + -0.399*X6 + 0.424*X7 + 0.643 ***\n",
      "*** Epoch 10850 cost=99013.4296875\n",
      "n_user = 0.000*X1 + 0.000*X2 + -0.472*X3 + 0.221*X4 + 0.435*X5 + -0.394*X6 + 0.429*X7 + 0.648 ***\n",
      "*** Epoch 10900 cost=97372.3359375\n",
      "n_user = 0.000*X1 + 0.000*X2 + -0.463*X3 + 0.217*X4 + 0.426*X5 + -0.388*X6 + 0.434*X7 + 0.653 ***\n",
      "*** Epoch 10950 cost=119408.015625\n",
      "n_user = 0.001*X1 + 0.000*X2 + -0.454*X3 + 0.214*X4 + 0.417*X5 + -0.383*X6 + 0.440*X7 + 0.658 ***\n",
      "*** Epoch 11000 cost=123827.890625\n",
      "n_user = 0.001*X1 + 0.000*X2 + -0.445*X3 + 0.211*X4 + 0.408*X5 + -0.377*X6 + 0.445*X7 + 0.663 ***\n",
      "*** Epoch 11050 cost=92594.515625\n",
      "n_user = 0.000*X1 + 0.000*X2 + -0.435*X3 + 0.208*X4 + 0.399*X5 + -0.372*X6 + 0.449*X7 + 0.668 ***\n",
      "*** Epoch 11100 cost=90876.96875\n",
      "n_user = 0.000*X1 + 0.000*X2 + -0.426*X3 + 0.204*X4 + 0.390*X5 + -0.367*X6 + 0.455*X7 + 0.673 ***\n",
      "*** Epoch 11150 cost=89280.296875\n",
      "n_user = 0.000*X1 + 0.000*X2 + -0.417*X3 + 0.201*X4 + 0.381*X5 + -0.362*X6 + 0.460*X7 + 0.678 ***\n",
      "*** Epoch 11200 cost=87685.078125\n",
      "n_user = 0.000*X1 + 0.000*X2 + -0.407*X3 + 0.198*X4 + 0.372*X5 + -0.356*X6 + 0.465*X7 + 0.683 ***\n",
      "*** Epoch 11250 cost=86123.375\n",
      "n_user = 0.000*X1 + 0.000*X2 + -0.397*X3 + 0.194*X4 + 0.363*X5 + -0.351*X6 + 0.471*X7 + 0.689 ***\n",
      "*** Epoch 11300 cost=209500.296875\n",
      "n_user = 0.001*X1 + 0.000*X2 + -0.388*X3 + 0.191*X4 + 0.353*X5 + -0.345*X6 + 0.476*X7 + 0.694 ***\n",
      "*** Epoch 11350 cost=83564.34375\n",
      "n_user = 0.000*X1 + 0.000*X2 + -0.378*X3 + 0.188*X4 + 0.344*X5 + -0.340*X6 + 0.481*X7 + 0.699 ***\n",
      "*** Epoch 11400 cost=81498.0390625\n",
      "n_user = 0.000*X1 + 0.000*X2 + -0.369*X3 + 0.185*X4 + 0.335*X5 + -0.335*X6 + 0.486*X7 + 0.705 ***\n",
      "*** Epoch 11450 cost=79978.0546875\n",
      "n_user = 0.000*X1 + 0.000*X2 + -0.359*X3 + 0.182*X4 + 0.325*X5 + -0.329*X6 + 0.491*X7 + 0.710 ***\n",
      "*** Epoch 11500 cost=78501.3984375\n",
      "n_user = 0.000*X1 + 0.000*X2 + -0.349*X3 + 0.178*X4 + 0.316*X5 + -0.324*X6 + 0.496*X7 + 0.716 ***\n",
      "*** Epoch 11550 cost=82356.515625\n",
      "n_user = 0.000*X1 + 0.000*X2 + -0.339*X3 + 0.175*X4 + 0.306*X5 + -0.318*X6 + 0.501*X7 + 0.721 ***\n",
      "*** Epoch 11600 cost=80304.3359375\n",
      "n_user = 0.000*X1 + 0.000*X2 + -0.330*X3 + 0.172*X4 + 0.297*X5 + -0.313*X6 + 0.506*X7 + 0.726 ***\n",
      "*** Epoch 11650 cost=74294.828125\n",
      "n_user = 0.000*X1 + 0.000*X2 + -0.320*X3 + 0.169*X4 + 0.288*X5 + -0.308*X6 + 0.511*X7 + 0.732 ***\n",
      "*** Epoch 11700 cost=72907.09375\n",
      "n_user = 0.000*X1 + 0.000*X2 + -0.311*X3 + 0.166*X4 + 0.279*X5 + -0.303*X6 + 0.516*X7 + 0.737 ***\n",
      "*** Epoch 11750 cost=5262309.5\n",
      "n_user = 0.002*X1 + 0.001*X2 + -0.300*X3 + 0.164*X4 + 0.270*X5 + -0.296*X6 + 0.523*X7 + 0.743 ***\n",
      "*** Epoch 11800 cost=86379.859375\n",
      "n_user = 0.000*X1 + 0.000*X2 + -0.292*X3 + 0.160*X4 + 0.261*X5 + -0.293*X6 + 0.526*X7 + 0.748 ***\n",
      "*** Epoch 11850 cost=69154.25\n",
      "n_user = 0.000*X1 + 0.000*X2 + -0.283*X3 + 0.157*X4 + 0.252*X5 + -0.288*X6 + 0.530*X7 + 0.753 ***\n",
      "*** Epoch 11900 cost=67991.125\n",
      "n_user = 0.000*X1 + 0.000*X2 + -0.275*X3 + 0.154*X4 + 0.243*X5 + -0.283*X6 + 0.535*X7 + 0.758 ***\n",
      "*** Epoch 11950 cost=66839.4140625\n",
      "n_user = 0.000*X1 + 0.000*X2 + -0.266*X3 + 0.152*X4 + 0.235*X5 + -0.279*X6 + 0.540*X7 + 0.763 ***\n",
      "*** Epoch 12000 cost=166773.09375\n",
      "n_user = 0.000*X1 + 0.000*X2 + -0.257*X3 + 0.149*X4 + 0.226*X5 + -0.274*X6 + 0.544*X7 + 0.768 ***\n",
      "*** Epoch 12050 cost=81556.765625\n",
      "n_user = 0.000*X1 + 0.000*X2 + -0.249*X3 + 0.146*X4 + 0.219*X5 + -0.270*X6 + 0.548*X7 + 0.773 ***\n",
      "*** Epoch 12100 cost=63835.72265625\n",
      "n_user = 0.000*X1 + 0.000*X2 + -0.241*X3 + 0.144*X4 + 0.211*X5 + -0.265*X6 + 0.553*X7 + 0.778 ***\n",
      "*** Epoch 12150 cost=62770.44140625\n",
      "n_user = 0.000*X1 + 0.000*X2 + -0.233*X3 + 0.141*X4 + 0.203*X5 + -0.261*X6 + 0.557*X7 + 0.782 ***\n",
      "*** Epoch 12200 cost=61803.8359375\n",
      "n_user = 0.000*X1 + 0.000*X2 + -0.225*X3 + 0.139*X4 + 0.195*X5 + -0.257*X6 + 0.561*X7 + 0.787 ***\n",
      "*** Epoch 12250 cost=522466.625\n",
      "n_user = 0.001*X1 + 0.000*X2 + -0.217*X3 + 0.136*X4 + 0.188*X5 + -0.252*X6 + 0.566*X7 + 0.792 ***\n",
      "*** Epoch 12300 cost=62062.296875\n",
      "n_user = 0.000*X1 + 0.000*X2 + -0.210*X3 + 0.134*X4 + 0.181*X5 + -0.249*X6 + 0.570*X7 + 0.796 ***\n",
      "*** Epoch 12350 cost=59292.44921875\n",
      "n_user = 0.000*X1 + 0.000*X2 + -0.204*X3 + 0.132*X4 + 0.174*X5 + -0.245*X6 + 0.573*X7 + 0.800 ***\n",
      "*** Epoch 12400 cost=58516.6328125\n",
      "n_user = 0.000*X1 + 0.000*X2 + -0.197*X3 + 0.129*X4 + 0.167*X5 + -0.241*X6 + 0.577*X7 + 0.804 ***\n",
      "*** Epoch 12450 cost=57736.7421875\n",
      "n_user = 0.000*X1 + 0.000*X2 + -0.190*X3 + 0.127*X4 + 0.160*X5 + -0.237*X6 + 0.581*X7 + 0.808 ***\n",
      "*** Epoch 12500 cost=56971.01171875\n",
      "n_user = 0.000*X1 + 0.000*X2 + -0.183*X3 + 0.125*X4 + 0.153*X5 + -0.233*X6 + 0.585*X7 + 0.812 ***\n",
      "*** Epoch 12550 cost=2479835.5\n",
      "n_user = 0.001*X1 + 0.001*X2 + -0.175*X3 + 0.123*X4 + 0.147*X5 + -0.228*X6 + 0.590*X7 + 0.817 ***\n",
      "*** Epoch 12600 cost=337855.46875\n",
      "n_user = 0.000*X1 + -0.000*X2 + -0.170*X3 + 0.120*X4 + 0.140*X5 + -0.226*X6 + 0.593*X7 + 0.820 ***\n",
      "*** Epoch 12650 cost=56133.515625\n",
      "n_user = 0.000*X1 + 0.000*X2 + -0.164*X3 + 0.118*X4 + 0.134*X5 + -0.222*X6 + 0.597*X7 + 0.824 ***\n",
      "*** Epoch 12700 cost=54351.05859375\n",
      "n_user = 0.000*X1 + 0.000*X2 + -0.158*X3 + 0.116*X4 + 0.128*X5 + -0.219*X6 + 0.600*X7 + 0.827 ***\n",
      "*** Epoch 12750 cost=53736.67578125\n",
      "n_user = 0.000*X1 + 0.000*X2 + -0.152*X3 + 0.114*X4 + 0.122*X5 + -0.215*X6 + 0.604*X7 + 0.831 ***\n",
      "*** Epoch 12800 cost=53132.7734375\n",
      "n_user = 0.000*X1 + 0.000*X2 + -0.146*X3 + 0.112*X4 + 0.116*X5 + -0.212*X6 + 0.608*X7 + 0.835 ***\n",
      "*** Epoch 12850 cost=52534.47265625\n",
      "n_user = 0.000*X1 + 0.000*X2 + -0.140*X3 + 0.110*X4 + 0.110*X5 + -0.208*X6 + 0.611*X7 + 0.838 ***\n",
      "*** Epoch 12900 cost=251422.703125\n",
      "n_user = 0.000*X1 + 0.000*X2 + -0.133*X3 + 0.108*X4 + 0.104*X5 + -0.205*X6 + 0.615*X7 + 0.842 ***\n",
      "*** Epoch 12950 cost=501854.34375\n",
      "n_user = 0.000*X1 + -0.000*X2 + -0.129*X3 + 0.105*X4 + 0.098*X5 + -0.202*X6 + 0.618*X7 + 0.845 ***\n",
      "*** Epoch 13000 cost=53806.734375\n",
      "n_user = 0.000*X1 + 0.000*X2 + -0.123*X3 + 0.104*X4 + 0.094*X5 + -0.199*X6 + 0.622*X7 + 0.848 ***\n",
      "*** Epoch 13050 cost=50510.1328125\n",
      "n_user = 0.000*X1 + 0.000*X2 + -0.118*X3 + 0.102*X4 + 0.088*X5 + -0.196*X6 + 0.625*X7 + 0.851 ***\n",
      "*** Epoch 13100 cost=50032.48046875\n",
      "n_user = 0.000*X1 + 0.000*X2 + -0.113*X3 + 0.100*X4 + 0.083*X5 + -0.193*X6 + 0.628*X7 + 0.855 ***\n"
     ]
    },
    {
     "name": "stdout",
     "output_type": "stream",
     "text": [
      "*** Epoch 13150 cost=49573.28125\n",
      "n_user = 0.000*X1 + 0.000*X2 + -0.108*X3 + 0.098*X4 + 0.078*X5 + -0.189*X6 + 0.631*X7 + 0.858 ***\n",
      "*** Epoch 13200 cost=49111.78125\n",
      "n_user = 0.000*X1 + 0.000*X2 + -0.103*X3 + 0.096*X4 + 0.073*X5 + -0.186*X6 + 0.634*X7 + 0.861 ***\n",
      "*** Epoch 13250 cost=48652.87890625\n",
      "n_user = 0.000*X1 + 0.000*X2 + -0.098*X3 + 0.095*X4 + 0.067*X5 + -0.183*X6 + 0.638*X7 + 0.864 ***\n",
      "*** Epoch 13300 cost=1817766.0\n",
      "n_user = 0.001*X1 + 0.000*X2 + -0.092*X3 + 0.093*X4 + 0.063*X5 + -0.179*X6 + 0.642*X7 + 0.868 ***\n",
      "*** Epoch 13350 cost=230956.3125\n",
      "n_user = 0.000*X1 + 0.000*X2 + -0.088*X3 + 0.091*X4 + 0.058*X5 + -0.177*X6 + 0.644*X7 + 0.870 ***\n",
      "*** Epoch 13400 cost=49476.19921875\n",
      "n_user = 0.000*X1 + 0.000*X2 + -0.083*X3 + 0.089*X4 + 0.053*X5 + -0.175*X6 + 0.647*X7 + 0.873 ***\n",
      "*** Epoch 13450 cost=47130.11328125\n",
      "n_user = 0.000*X1 + 0.000*X2 + -0.079*X3 + 0.088*X4 + 0.049*X5 + -0.172*X6 + 0.650*X7 + 0.876 ***\n",
      "*** Epoch 13500 cost=46743.12890625\n",
      "n_user = 0.000*X1 + 0.000*X2 + -0.075*X3 + 0.086*X4 + 0.044*X5 + -0.169*X6 + 0.653*X7 + 0.878 ***\n",
      "*** Epoch 13550 cost=46391.7734375\n",
      "n_user = 0.000*X1 + 0.000*X2 + -0.070*X3 + 0.084*X4 + 0.040*X5 + -0.166*X6 + 0.656*X7 + 0.881 ***\n",
      "*** Epoch 13600 cost=46039.78125\n",
      "n_user = 0.000*X1 + 0.000*X2 + -0.066*X3 + 0.083*X4 + 0.035*X5 + -0.164*X6 + 0.659*X7 + 0.884 ***\n",
      "*** Epoch 13650 cost=45691.62890625\n",
      "n_user = 0.000*X1 + 0.000*X2 + -0.061*X3 + 0.081*X4 + 0.030*X5 + -0.161*X6 + 0.662*X7 + 0.887 ***\n",
      "*** Epoch 13700 cost=168628.46875\n",
      "n_user = 0.000*X1 + 0.000*X2 + -0.057*X3 + 0.079*X4 + 0.026*X5 + -0.158*X6 + 0.665*X7 + 0.890 ***\n",
      "*** Epoch 13750 cost=589595.0\n",
      "n_user = 0.000*X1 + -0.000*X2 + -0.053*X3 + 0.078*X4 + 0.021*X5 + -0.156*X6 + 0.667*X7 + 0.892 ***\n",
      "*** Epoch 13800 cost=46691.9140625\n",
      "n_user = 0.000*X1 + 0.000*X2 + -0.049*X3 + 0.076*X4 + 0.018*X5 + -0.153*X6 + 0.670*X7 + 0.894 ***\n",
      "*** Epoch 13850 cost=44519.84375\n",
      "n_user = 0.000*X1 + 0.000*X2 + -0.045*X3 + 0.075*X4 + 0.014*X5 + -0.151*X6 + 0.672*X7 + 0.897 ***\n",
      "*** Epoch 13900 cost=44237.28515625\n",
      "n_user = 0.000*X1 + 0.000*X2 + -0.041*X3 + 0.074*X4 + 0.010*X5 + -0.149*X6 + 0.675*X7 + 0.899 ***\n",
      "*** Epoch 13950 cost=43964.828125\n",
      "n_user = 0.000*X1 + 0.000*X2 + -0.038*X3 + 0.072*X4 + 0.006*X5 + -0.146*X6 + 0.677*X7 + 0.902 ***\n",
      "*** Epoch 14000 cost=43699.62109375\n",
      "n_user = 0.000*X1 + 0.000*X2 + -0.034*X3 + 0.071*X4 + 0.002*X5 + -0.144*X6 + 0.680*X7 + 0.904 ***\n",
      "*** Epoch 14050 cost=43433.02734375\n",
      "n_user = 0.000*X1 + 0.000*X2 + -0.030*X3 + 0.069*X4 + -0.002*X5 + -0.141*X6 + 0.683*X7 + 0.907 ***\n",
      "*** Epoch 14100 cost=43157.73828125\n",
      "n_user = 0.000*X1 + 0.000*X2 + -0.026*X3 + 0.068*X4 + -0.006*X5 + -0.139*X6 + 0.685*X7 + 0.909 ***\n",
      "*** Epoch 14150 cost=4740760.0\n",
      "n_user = 0.001*X1 + 0.001*X2 + -0.022*X3 + 0.067*X4 + -0.009*X5 + -0.136*X6 + 0.688*X7 + 0.912 ***\n"
     ]
    }
   ],
   "source": [
    "costs = list()\n",
    "weights = list()\n",
    "biases = list()\n",
    "print(\"### Training step ###\")\n",
    "for epoch in range(initial_step, training_epochs):\n",
    "    session.run(train_op, feed_dict={X: x_train, Y: y_train})\n",
    "    #Display logs per epoch step\n",
    "    if (epoch+1) % display_step == 0:\n",
    "        training_cost, weight, bias = session.run([loss, w, b], feed_dict={X: x_train, Y: y_train})\n",
    "        print(\"*** Epoch\", '%04d' % (epoch+1), \"cost={}\\nn_user = {:.3f}*X1 + {:.3f}*X2 + {:.3f}*X3 + {:.3f}*X4 + {:.3f}*X5 + {:.3f}*X6 + {:.3f}*X7 + {:.3f} ***\".format(training_cost, weight[0][0], weight[1][0], weight[2][0], weight[3][0], weight[4][0], weight[5][0], weight[6][0], bias[0]))\n",
    "        costs.append(training_cost)\n",
    "        weights.append(weight[:,0])\n",
    "        biases.append(bias[0])\n",
    "        saver.save(session, 'checkpoints/linreg_osm/osm-linreg', epoch)"
   ]
  },
  {
   "cell_type": "markdown",
   "metadata": {},
   "source": [
    "The results are stored into a pandas dataframe and saved onto the file system."
   ]
  },
  {
   "cell_type": "code",
   "execution_count": 27,
   "metadata": {
    "collapsed": true
   },
   "outputs": [],
   "source": [
    "param_history = pd.DataFrame(weights, columns=[\"lifespan\", \"n_inscription_days\", \"n_activity_days\", \"version\", \"n_chgset\", \"n_autocorr\", \"n_corr\"])\n",
    "param_history[\"bias\"] = biases\n",
    "param_history[\"loss\"] = costs\n",
    "\n",
    "if initial_step == 0:\n",
    "    param_history.to_csv(\"linreg_osm.csv\", index=False)\n",
    "else:\n",
    "    param_history.to_csv(\"linreg_osm.csv\", index=False, mode='a', header=False)"
   ]
  },
  {
   "cell_type": "markdown",
   "metadata": {},
   "source": [
    "Then the data into this `csv` file is recovered. We do not consider the current `param_history` value, as it may represent only the last training steps, if the train just had been restored from a checkpoint. We use the results for plotting purpose."
   ]
  },
  {
   "cell_type": "code",
   "execution_count": 28,
   "metadata": {},
   "outputs": [
    {
     "name": "stderr",
     "output_type": "stream",
     "text": [
      "/usr/local/lib/python3.5/dist-packages/matplotlib/figure.py:403: UserWarning: matplotlib is currently using a non-GUI backend, so cannot show the figure\n",
      "  \"matplotlib is currently using a non-GUI backend, \"\n"
     ]
    },
    {
     "data": {
      "image/png": "[encoded data removed]",
      "text/plain": [
       "<matplotlib.figure.Figure at 0x7fecd4246dd8>"
      ]
     },
     "metadata": {},
     "output_type": "display_data"
    }
   ],
   "source": [
    "param_history = pd.read_csv(\"linreg_osm.csv\", index_col=False)\n",
    "\n",
    "#Graphic display\n",
    "f, ax = plt.subplots(3, 3, figsize=(12,6))\n",
    "for i in range(param_history.shape[1]):\n",
    "    ax[i % 3][int(i / 3)].plot(param_history.iloc[:,i])\n",
    "    ax[i % 3][int(i / 3)].set_title(param_history.columns[i])\n",
    "f.tight_layout()\n",
    "f.show()"
   ]
  },
  {
   "cell_type": "markdown",
   "metadata": {},
   "source": [
    "Then the model is run with test data (this dataset was not used for model training). The goal is to evaluate the correspondance between true value of `y` and the model prediction."
   ]
  },
  {
   "cell_type": "code",
   "execution_count": 29,
   "metadata": {},
   "outputs": [
    {
     "name": "stdout",
     "output_type": "stream",
     "text": [
      "### Test step ###\n",
      "Test cost = 112089.6875, i.e. +/- 0.637 contributor(s) per OSM elements on average\n"
     ]
    }
   ],
   "source": [
    "print(\"### Test step ###\")\n",
    "cost, y_pred = session.run([loss, predictions], feed_dict={X: x_test, Y: y_test})\n",
    "print(\"Test cost = {}, i.e. +/- {:.3f} contributor(s) per OSM elements on average\".format(cost, math.sqrt(cost/len(y_test))))"
   ]
  },
  {
   "cell_type": "markdown",
   "metadata": {},
   "source": [
    "A last plot is produced starting from the test step: it shows how good the predictions are."
   ]
  },
  {
   "cell_type": "code",
   "execution_count": 30,
   "metadata": {},
   "outputs": [
    {
     "data": {
      "image/png": "[encoded data removed]",
      "text/plain": [
       "<matplotlib.figure.Figure at 0x7fece4884a58>"
      ]
     },
     "metadata": {},
     "output_type": "display_data"
    }
   ],
   "source": [
    "plt.plot(y_test, y_pred, 'go')\n",
    "output_min, output_max = int(min(y_pred)[0]), int(max(y_pred)[0])\n",
    "plt.plot(range(output_min, output_max+2), range(output_min, output_max+2))\n",
    "plt.xlabel(\"True values of y\")\n",
    "plt.ylabel(\"Model predictions\")\n",
    "plt.xlim(min(y_test)[0], max(y_test)[0]+2)\n",
    "plt.ylim(output_min, output_max+2)\n",
    "plt.tight_layout()\n",
    "plt.show()"
   ]
  },
  {
   "cell_type": "markdown",
   "metadata": {},
   "source": [
    "Last the tensorflow session is closed."
   ]
  },
  {
   "cell_type": "code",
   "execution_count": 31,
   "metadata": {
    "collapsed": true
   },
   "outputs": [],
   "source": [
    "session.close()"
   ]
  }
 ],
 "metadata": {
  "kernelspec": {
   "display_name": "Python 3",
   "language": "python",
   "name": "python3"
  },
  "language_info": {
   "codemirror_mode": {
    "name": "ipython",
    "version": 3
   },
   "file_extension": ".py",
   "mimetype": "text/x-python",
   "name": "python",
   "nbconvert_exporter": "python",
   "pygments_lexer": "ipython3",
   "version": "3.5.2"
  }
 },
 "nbformat": 4,
 "nbformat_minor": 2
}
